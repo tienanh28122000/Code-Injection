{
  "nbformat": 4,
  "nbformat_minor": 0,
  "metadata": {
    "colab": {
      "provenance": []
    },
    "kernelspec": {
      "name": "python3",
      "display_name": "Python 3"
    },
    "language_info": {
      "name": "python"
    },
    "accelerator": "GPU",
    "gpuClass": "standard"
  },
  "cells": [
    {
      "cell_type": "code",
      "execution_count": null,
      "metadata": {
        "colab": {
          "base_uri": "https://localhost:8080/"
        },
        "id": "W51kF49vtN5p",
        "outputId": "429720fe-52e9-44ba-d1f6-1269c9aee563"
      },
      "outputs": [
        {
          "output_type": "stream",
          "name": "stderr",
          "text": [
            "[nltk_data] Downloading package punkt to /root/nltk_data...\n",
            "[nltk_data]   Unzipping tokenizers/punkt.zip.\n",
            "[nltk_data] Downloading package averaged_perceptron_tagger to\n",
            "[nltk_data]     /root/nltk_data...\n",
            "[nltk_data]   Unzipping taggers/averaged_perceptron_tagger.zip.\n",
            "[nltk_data] Downloading package wordnet to /root/nltk_data...\n"
          ]
        }
      ],
      "source": [
        "import pandas as pd\n",
        "import numpy as np\n",
        "\n",
        "import seaborn as sns\n",
        "import matplotlib.pyplot as plt\n",
        "\n",
        "#for text pre-processing\n",
        "import re, string\n",
        "import nltk\n",
        "from nltk.tokenize import word_tokenize\n",
        "from nltk.corpus import stopwords\n",
        "from nltk.tokenize import word_tokenize\n",
        "from nltk.stem import SnowballStemmer\n",
        "from nltk.corpus import wordnet\n",
        "from nltk.stem import WordNetLemmatizer\n",
        "\n",
        "nltk.download('punkt')\n",
        "nltk.download('averaged_perceptron_tagger')\n",
        "nltk.download('wordnet')\n",
        "\n",
        "#for model-building\n",
        "from sklearn.model_selection import train_test_split\n",
        "from sklearn.linear_model import LogisticRegression\n",
        "from sklearn.linear_model import SGDClassifier\n",
        "from sklearn.naive_bayes import MultinomialNB\n",
        "from sklearn.metrics import classification_report, f1_score, accuracy_score, confusion_matrix\n",
        "from sklearn.metrics import roc_curve, auc, roc_auc_score\n",
        "\n",
        "# bag of words\n",
        "from sklearn.feature_extraction.text import TfidfVectorizer\n",
        "from sklearn.feature_extraction.text import CountVectorizer\n",
        "\n",
        "#for word embedding\n",
        "import gensim\n",
        "from gensim.models import Word2Vec #Word2Vec is mostly used for huge datasets"
      ]
    },
    {
      "cell_type": "code",
      "source": [
        "from google.colab import drive\n",
        "drive.mount('/content/drive')"
      ],
      "metadata": {
        "colab": {
          "base_uri": "https://localhost:8080/"
        },
        "id": "aWabTmeUtSM5",
        "outputId": "e4f59c62-66a5-4eb3-e97f-e0a6a05a72d6"
      },
      "execution_count": null,
      "outputs": [
        {
          "output_type": "stream",
          "name": "stdout",
          "text": [
            "Mounted at /content/drive\n"
          ]
        }
      ]
    },
    {
      "cell_type": "code",
      "source": [
        "%cd /content/drive/MyDrive/Code_Injection_Dataset"
      ],
      "metadata": {
        "colab": {
          "base_uri": "https://localhost:8080/"
        },
        "id": "GvEmu7PItSQI",
        "outputId": "44b0cb94-74bb-4078-b81d-9a2491ef8029"
      },
      "execution_count": null,
      "outputs": [
        {
          "output_type": "stream",
          "name": "stdout",
          "text": [
            "/content/drive/MyDrive/Code_Injection_Dataset\n"
          ]
        }
      ]
    },
    {
      "cell_type": "code",
      "source": [
        "df_train = pd.read_csv('dataset_capec_combine.csv')\n",
        "df_train.head()"
      ],
      "metadata": {
        "colab": {
          "base_uri": "https://localhost:8080/",
          "height": 206
        },
        "id": "L9g0nmB9tSTY",
        "outputId": "8b0d19f6-7216-4b75-8238-a0b2889dccc2"
      },
      "execution_count": null,
      "outputs": [
        {
          "output_type": "execute_result",
          "data": {
            "text/plain": [
              "                                                text         label\n",
              "0  GET /blog/index.php/2020/04/04/voluptatum-repr...  000 - Normal\n",
              "1                           GET /blog/xmlrpc.php?rsd  000 - Normal\n",
              "2  GET /blog/index.php/2020/04/04/nihil-tenetur-e...  000 - Normal\n",
              "3  GET /blog/index.php/2020/04/04/explicabo-qui-f...  000 - Normal\n",
              "4  GET /blog/index.php/2020/04/04/explicabo-qui-f...  000 - Normal"
            ],
            "text/html": [
              "\n",
              "  <div id=\"df-f9ad0ce6-3f36-4cbd-be40-be97cc51099c\">\n",
              "    <div class=\"colab-df-container\">\n",
              "      <div>\n",
              "<style scoped>\n",
              "    .dataframe tbody tr th:only-of-type {\n",
              "        vertical-align: middle;\n",
              "    }\n",
              "\n",
              "    .dataframe tbody tr th {\n",
              "        vertical-align: top;\n",
              "    }\n",
              "\n",
              "    .dataframe thead th {\n",
              "        text-align: right;\n",
              "    }\n",
              "</style>\n",
              "<table border=\"1\" class=\"dataframe\">\n",
              "  <thead>\n",
              "    <tr style=\"text-align: right;\">\n",
              "      <th></th>\n",
              "      <th>text</th>\n",
              "      <th>label</th>\n",
              "    </tr>\n",
              "  </thead>\n",
              "  <tbody>\n",
              "    <tr>\n",
              "      <th>0</th>\n",
              "      <td>GET /blog/index.php/2020/04/04/voluptatum-repr...</td>\n",
              "      <td>000 - Normal</td>\n",
              "    </tr>\n",
              "    <tr>\n",
              "      <th>1</th>\n",
              "      <td>GET /blog/xmlrpc.php?rsd</td>\n",
              "      <td>000 - Normal</td>\n",
              "    </tr>\n",
              "    <tr>\n",
              "      <th>2</th>\n",
              "      <td>GET /blog/index.php/2020/04/04/nihil-tenetur-e...</td>\n",
              "      <td>000 - Normal</td>\n",
              "    </tr>\n",
              "    <tr>\n",
              "      <th>3</th>\n",
              "      <td>GET /blog/index.php/2020/04/04/explicabo-qui-f...</td>\n",
              "      <td>000 - Normal</td>\n",
              "    </tr>\n",
              "    <tr>\n",
              "      <th>4</th>\n",
              "      <td>GET /blog/index.php/2020/04/04/explicabo-qui-f...</td>\n",
              "      <td>000 - Normal</td>\n",
              "    </tr>\n",
              "  </tbody>\n",
              "</table>\n",
              "</div>\n",
              "      <button class=\"colab-df-convert\" onclick=\"convertToInteractive('df-f9ad0ce6-3f36-4cbd-be40-be97cc51099c')\"\n",
              "              title=\"Convert this dataframe to an interactive table.\"\n",
              "              style=\"display:none;\">\n",
              "        \n",
              "  <svg xmlns=\"http://www.w3.org/2000/svg\" height=\"24px\"viewBox=\"0 0 24 24\"\n",
              "       width=\"24px\">\n",
              "    <path d=\"M0 0h24v24H0V0z\" fill=\"none\"/>\n",
              "    <path d=\"M18.56 5.44l.94 2.06.94-2.06 2.06-.94-2.06-.94-.94-2.06-.94 2.06-2.06.94zm-11 1L8.5 8.5l.94-2.06 2.06-.94-2.06-.94L8.5 2.5l-.94 2.06-2.06.94zm10 10l.94 2.06.94-2.06 2.06-.94-2.06-.94-.94-2.06-.94 2.06-2.06.94z\"/><path d=\"M17.41 7.96l-1.37-1.37c-.4-.4-.92-.59-1.43-.59-.52 0-1.04.2-1.43.59L10.3 9.45l-7.72 7.72c-.78.78-.78 2.05 0 2.83L4 21.41c.39.39.9.59 1.41.59.51 0 1.02-.2 1.41-.59l7.78-7.78 2.81-2.81c.8-.78.8-2.07 0-2.86zM5.41 20L4 18.59l7.72-7.72 1.47 1.35L5.41 20z\"/>\n",
              "  </svg>\n",
              "      </button>\n",
              "      \n",
              "  <style>\n",
              "    .colab-df-container {\n",
              "      display:flex;\n",
              "      flex-wrap:wrap;\n",
              "      gap: 12px;\n",
              "    }\n",
              "\n",
              "    .colab-df-convert {\n",
              "      background-color: #E8F0FE;\n",
              "      border: none;\n",
              "      border-radius: 50%;\n",
              "      cursor: pointer;\n",
              "      display: none;\n",
              "      fill: #1967D2;\n",
              "      height: 32px;\n",
              "      padding: 0 0 0 0;\n",
              "      width: 32px;\n",
              "    }\n",
              "\n",
              "    .colab-df-convert:hover {\n",
              "      background-color: #E2EBFA;\n",
              "      box-shadow: 0px 1px 2px rgba(60, 64, 67, 0.3), 0px 1px 3px 1px rgba(60, 64, 67, 0.15);\n",
              "      fill: #174EA6;\n",
              "    }\n",
              "\n",
              "    [theme=dark] .colab-df-convert {\n",
              "      background-color: #3B4455;\n",
              "      fill: #D2E3FC;\n",
              "    }\n",
              "\n",
              "    [theme=dark] .colab-df-convert:hover {\n",
              "      background-color: #434B5C;\n",
              "      box-shadow: 0px 1px 3px 1px rgba(0, 0, 0, 0.15);\n",
              "      filter: drop-shadow(0px 1px 2px rgba(0, 0, 0, 0.3));\n",
              "      fill: #FFFFFF;\n",
              "    }\n",
              "  </style>\n",
              "\n",
              "      <script>\n",
              "        const buttonEl =\n",
              "          document.querySelector('#df-f9ad0ce6-3f36-4cbd-be40-be97cc51099c button.colab-df-convert');\n",
              "        buttonEl.style.display =\n",
              "          google.colab.kernel.accessAllowed ? 'block' : 'none';\n",
              "\n",
              "        async function convertToInteractive(key) {\n",
              "          const element = document.querySelector('#df-f9ad0ce6-3f36-4cbd-be40-be97cc51099c');\n",
              "          const dataTable =\n",
              "            await google.colab.kernel.invokeFunction('convertToInteractive',\n",
              "                                                     [key], {});\n",
              "          if (!dataTable) return;\n",
              "\n",
              "          const docLinkHtml = 'Like what you see? Visit the ' +\n",
              "            '<a target=\"_blank\" href=https://colab.research.google.com/notebooks/data_table.ipynb>data table notebook</a>'\n",
              "            + ' to learn more about interactive tables.';\n",
              "          element.innerHTML = '';\n",
              "          dataTable['output_type'] = 'display_data';\n",
              "          await google.colab.output.renderOutput(dataTable, element);\n",
              "          const docLink = document.createElement('div');\n",
              "          docLink.innerHTML = docLinkHtml;\n",
              "          element.appendChild(docLink);\n",
              "        }\n",
              "      </script>\n",
              "    </div>\n",
              "  </div>\n",
              "  "
            ]
          },
          "metadata": {},
          "execution_count": 4
        }
      ]
    },
    {
      "cell_type": "code",
      "source": [
        "# CLASS DISTRIBUTION\n",
        "#if dataset is balanced or not\n",
        "x=df_train['label'].value_counts()\n",
        "print(x)\n",
        "sns.barplot(x = x.index, y = x)\n",
        "plt.xticks(rotation=90)"
      ],
      "metadata": {
        "colab": {
          "base_uri": "https://localhost:8080/",
          "height": 966
        },
        "id": "fkjSw_zvtSWS",
        "outputId": "5a77b686-db84-4e4a-82e3-52eb48975428"
      },
      "execution_count": null,
      "outputs": [
        {
          "output_type": "stream",
          "name": "stdout",
          "text": [
            "242 - Code Injection                      261885\n",
            "000 - Normal                              226509\n",
            "194 - Fake the Source of Data              55982\n",
            "34 - HTTP Response Splitting               19134\n",
            "126 - Path Traversal                       17595\n",
            "153 - Input Data Manipulation               8311\n",
            "310 - Scanning for Vulnerable Software      2382\n",
            "Name: label, dtype: int64\n"
          ]
        },
        {
          "output_type": "execute_result",
          "data": {
            "text/plain": [
              "(array([0, 1, 2, 3, 4, 5, 6]),\n",
              " [Text(0, 0, '242 - Code Injection'),\n",
              "  Text(1, 0, '000 - Normal'),\n",
              "  Text(2, 0, '194 - Fake the Source of Data'),\n",
              "  Text(3, 0, '34 - HTTP Response Splitting'),\n",
              "  Text(4, 0, '126 - Path Traversal'),\n",
              "  Text(5, 0, '153 - Input Data Manipulation'),\n",
              "  Text(6, 0, '310 - Scanning for Vulnerable Software')])"
            ]
          },
          "metadata": {},
          "execution_count": 5
        },
        {
          "output_type": "display_data",
          "data": {
            "text/plain": [
              "<Figure size 640x480 with 1 Axes>"
            ],
            "image/png": "[encoded data removed]"
          },
          "metadata": {}
        }
      ]
    },
    {
      "cell_type": "code",
      "source": [
        "from sklearn.feature_extraction.text import CountVectorizer, TfidfVectorizer\n",
        "import numpy as np\n",
        "import json\n",
        "\n",
        "\n",
        "class Vectorizer:\n",
        "    def __init__(self, method='BOW', ngram_range=(1, 1), max_features=300, emb_fname='', word_index_fname=''):\n",
        "        self.method = method\n",
        "        if self.method == 'BOW':\n",
        "            self.vectorizer = CountVectorizer(analyzer='word', input='content', ngram_range=ngram_range, max_features=max_features)\n",
        "        elif self.method == 'TFIDF':\n",
        "            self.vectorizer = TfidfVectorizer(analyzer='word', input='content', max_features=max_features)\n",
        "        elif self.method == 'Word2Vec':\n",
        "            self.max_features = max_features\n",
        "            self.emb_fname = emb_fname\n",
        "            self.word_index_fname = word_index_fname\n",
        "        else:\n",
        "            raise ValueError('Feature extraction method does not exist.')\n",
        "\n",
        "    def feature_extraction(self, X_train, X_test):\n",
        "        train_data = self.vectorizer.fit_transform(X_train).toarray()\n",
        "        test_data = self.vectorizer.transform(X_test).toarray()\n",
        "        return train_data, test_data\n",
        "\n",
        "    def get_word_index(self):\n",
        "        word2id = json.load(open(self.word_index_fname, 'r'))\n",
        "        return word2id\n",
        "\n",
        "    def get_embedding_matrix(self):\n",
        "        np.random.seed(0)\n",
        "        word2id = self.get_word_index()\n",
        "        embedding_matrix = np.random.uniform(-0.25, 0.25, [len(word2id) + 1, self.max_features])\n",
        "        with open(self.emb_fname, 'r', encoding='utf-8') as f:\n",
        "            for line in f:\n",
        "                content = line.split(' ')\n",
        "                if content[0] in word2id:\n",
        "                    embedding_matrix[word2id[content[0]]] = np.array(list(map(float, content[1:])))\n",
        "        return embedding_matrix"
      ],
      "metadata": {
        "id": "Hupa0NALtnWS"
      },
      "execution_count": null,
      "outputs": []
    },
    {
      "cell_type": "code",
      "source": [
        "# Optional (not effect very much)\n",
        "df_train['text'] = df_train['text'].str.replace('/',' ')\n",
        "df_train.head()"
      ],
      "metadata": {
        "colab": {
          "base_uri": "https://localhost:8080/",
          "height": 206
        },
        "id": "YwWfdUf2todR",
        "outputId": "cd8033e1-4ce6-4fc6-fb4d-6cb94ea25044"
      },
      "execution_count": null,
      "outputs": [
        {
          "output_type": "execute_result",
          "data": {
            "text/plain": [
              "                                                text         label\n",
              "0  GET  blog index.php 2020 04 04 voluptatum-repr...  000 - Normal\n",
              "1                           GET  blog xmlrpc.php?rsd  000 - Normal\n",
              "2  GET  blog index.php 2020 04 04 nihil-tenetur-e...  000 - Normal\n",
              "3  GET  blog index.php 2020 04 04 explicabo-qui-f...  000 - Normal\n",
              "4  GET  blog index.php 2020 04 04 explicabo-qui-f...  000 - Normal"
            ],
            "text/html": [
              "\n",
              "  <div id=\"df-f3fe84e3-78b7-4f43-8923-df2759d8412e\">\n",
              "    <div class=\"colab-df-container\">\n",
              "      <div>\n",
              "<style scoped>\n",
              "    .dataframe tbody tr th:only-of-type {\n",
              "        vertical-align: middle;\n",
              "    }\n",
              "\n",
              "    .dataframe tbody tr th {\n",
              "        vertical-align: top;\n",
              "    }\n",
              "\n",
              "    .dataframe thead th {\n",
              "        text-align: right;\n",
              "    }\n",
              "</style>\n",
              "<table border=\"1\" class=\"dataframe\">\n",
              "  <thead>\n",
              "    <tr style=\"text-align: right;\">\n",
              "      <th></th>\n",
              "      <th>text</th>\n",
              "      <th>label</th>\n",
              "    </tr>\n",
              "  </thead>\n",
              "  <tbody>\n",
              "    <tr>\n",
              "      <th>0</th>\n",
              "      <td>GET  blog index.php 2020 04 04 voluptatum-repr...</td>\n",
              "      <td>000 - Normal</td>\n",
              "    </tr>\n",
              "    <tr>\n",
              "      <th>1</th>\n",
              "      <td>GET  blog xmlrpc.php?rsd</td>\n",
              "      <td>000 - Normal</td>\n",
              "    </tr>\n",
              "    <tr>\n",
              "      <th>2</th>\n",
              "      <td>GET  blog index.php 2020 04 04 nihil-tenetur-e...</td>\n",
              "      <td>000 - Normal</td>\n",
              "    </tr>\n",
              "    <tr>\n",
              "      <th>3</th>\n",
              "      <td>GET  blog index.php 2020 04 04 explicabo-qui-f...</td>\n",
              "      <td>000 - Normal</td>\n",
              "    </tr>\n",
              "    <tr>\n",
              "      <th>4</th>\n",
              "      <td>GET  blog index.php 2020 04 04 explicabo-qui-f...</td>\n",
              "      <td>000 - Normal</td>\n",
              "    </tr>\n",
              "  </tbody>\n",
              "</table>\n",
              "</div>\n",
              "      <button class=\"colab-df-convert\" onclick=\"convertToInteractive('df-f3fe84e3-78b7-4f43-8923-df2759d8412e')\"\n",
              "              title=\"Convert this dataframe to an interactive table.\"\n",
              "              style=\"display:none;\">\n",
              "        \n",
              "  <svg xmlns=\"http://www.w3.org/2000/svg\" height=\"24px\"viewBox=\"0 0 24 24\"\n",
              "       width=\"24px\">\n",
              "    <path d=\"M0 0h24v24H0V0z\" fill=\"none\"/>\n",
              "    <path d=\"M18.56 5.44l.94 2.06.94-2.06 2.06-.94-2.06-.94-.94-2.06-.94 2.06-2.06.94zm-11 1L8.5 8.5l.94-2.06 2.06-.94-2.06-.94L8.5 2.5l-.94 2.06-2.06.94zm10 10l.94 2.06.94-2.06 2.06-.94-2.06-.94-.94-2.06-.94 2.06-2.06.94z\"/><path d=\"M17.41 7.96l-1.37-1.37c-.4-.4-.92-.59-1.43-.59-.52 0-1.04.2-1.43.59L10.3 9.45l-7.72 7.72c-.78.78-.78 2.05 0 2.83L4 21.41c.39.39.9.59 1.41.59.51 0 1.02-.2 1.41-.59l7.78-7.78 2.81-2.81c.8-.78.8-2.07 0-2.86zM5.41 20L4 18.59l7.72-7.72 1.47 1.35L5.41 20z\"/>\n",
              "  </svg>\n",
              "      </button>\n",
              "      \n",
              "  <style>\n",
              "    .colab-df-container {\n",
              "      display:flex;\n",
              "      flex-wrap:wrap;\n",
              "      gap: 12px;\n",
              "    }\n",
              "\n",
              "    .colab-df-convert {\n",
              "      background-color: #E8F0FE;\n",
              "      border: none;\n",
              "      border-radius: 50%;\n",
              "      cursor: pointer;\n",
              "      display: none;\n",
              "      fill: #1967D2;\n",
              "      height: 32px;\n",
              "      padding: 0 0 0 0;\n",
              "      width: 32px;\n",
              "    }\n",
              "\n",
              "    .colab-df-convert:hover {\n",
              "      background-color: #E2EBFA;\n",
              "      box-shadow: 0px 1px 2px rgba(60, 64, 67, 0.3), 0px 1px 3px 1px rgba(60, 64, 67, 0.15);\n",
              "      fill: #174EA6;\n",
              "    }\n",
              "\n",
              "    [theme=dark] .colab-df-convert {\n",
              "      background-color: #3B4455;\n",
              "      fill: #D2E3FC;\n",
              "    }\n",
              "\n",
              "    [theme=dark] .colab-df-convert:hover {\n",
              "      background-color: #434B5C;\n",
              "      box-shadow: 0px 1px 3px 1px rgba(0, 0, 0, 0.15);\n",
              "      filter: drop-shadow(0px 1px 2px rgba(0, 0, 0, 0.3));\n",
              "      fill: #FFFFFF;\n",
              "    }\n",
              "  </style>\n",
              "\n",
              "      <script>\n",
              "        const buttonEl =\n",
              "          document.querySelector('#df-f3fe84e3-78b7-4f43-8923-df2759d8412e button.colab-df-convert');\n",
              "        buttonEl.style.display =\n",
              "          google.colab.kernel.accessAllowed ? 'block' : 'none';\n",
              "\n",
              "        async function convertToInteractive(key) {\n",
              "          const element = document.querySelector('#df-f3fe84e3-78b7-4f43-8923-df2759d8412e');\n",
              "          const dataTable =\n",
              "            await google.colab.kernel.invokeFunction('convertToInteractive',\n",
              "                                                     [key], {});\n",
              "          if (!dataTable) return;\n",
              "\n",
              "          const docLinkHtml = 'Like what you see? Visit the ' +\n",
              "            '<a target=\"_blank\" href=https://colab.research.google.com/notebooks/data_table.ipynb>data table notebook</a>'\n",
              "            + ' to learn more about interactive tables.';\n",
              "          element.innerHTML = '';\n",
              "          dataTable['output_type'] = 'display_data';\n",
              "          await google.colab.output.renderOutput(dataTable, element);\n",
              "          const docLink = document.createElement('div');\n",
              "          docLink.innerHTML = docLinkHtml;\n",
              "          element.appendChild(docLink);\n",
              "        }\n",
              "      </script>\n",
              "    </div>\n",
              "  </div>\n",
              "  "
            ]
          },
          "metadata": {},
          "execution_count": 7
        }
      ]
    },
    {
      "cell_type": "code",
      "source": [
        "# TF-IDF + NB\n",
        "from sklearn.naive_bayes import MultinomialNB\n",
        "X_train, X_val, y_train, y_val = train_test_split(df_train[\"text\"],\n",
        "                                                  df_train[\"label\"],\n",
        "                                                  test_size=0.2,\n",
        "                                                  shuffle=True)\n",
        "vectorizer = Vectorizer('TFIDF')\n",
        "train_features, test_features = vectorizer.feature_extraction(X_train, X_val)\n",
        "mnb = MultinomialNB()\n",
        "mnb.fit(train_features, y_train)\n",
        "print(mnb.score(test_features, y_val))"
      ],
      "metadata": {
        "colab": {
          "base_uri": "https://localhost:8080/"
        },
        "id": "yQE8gtkRtof_",
        "outputId": "54b5fad3-505d-47ae-85b0-eed1ced0e03c"
      },
      "execution_count": null,
      "outputs": [
        {
          "output_type": "stream",
          "name": "stdout",
          "text": [
            "0.8774839472794863\n"
          ]
        }
      ]
    },
    {
      "cell_type": "code",
      "source": [
        "y_predict = mnb.predict(test_features)\n",
        "print(classification_report(y_val,y_predict))\n",
        "print('Confusion Matrix: \\n',confusion_matrix(y_val, y_predict))"
      ],
      "metadata": {
        "colab": {
          "base_uri": "https://localhost:8080/"
        },
        "id": "_LebUPkft-9R",
        "outputId": "c7f28207-cd37-40d9-b9b1-78fb4182d075"
      },
      "execution_count": null,
      "outputs": [
        {
          "output_type": "stream",
          "name": "stdout",
          "text": [
            "                                        precision    recall  f1-score   support\n",
            "\n",
            "                          000 - Normal       0.81      0.93      0.87     45353\n",
            "                  126 - Path Traversal       1.00      0.78      0.88      3504\n",
            "         153 - Input Data Manipulation       0.15      0.19      0.17      1600\n",
            "         194 - Fake the Source of Data       0.98      0.92      0.95     11298\n",
            "                  242 - Code Injection       0.95      0.85      0.89     52342\n",
            "310 - Scanning for Vulnerable Software       0.96      0.32      0.48       480\n",
            "          34 - HTTP Response Splitting       0.95      0.94      0.95      3783\n",
            "\n",
            "                              accuracy                           0.88    118360\n",
            "                             macro avg       0.83      0.70      0.74    118360\n",
            "                          weighted avg       0.89      0.88      0.88    118360\n",
            "\n",
            "Confusion Matrix: \n",
            " [[42395    10   430    41  2286     5   186]\n",
            " [  622  2743    33    85    21     0     0]\n",
            " [ 1033     0   301   101   164     1     0]\n",
            " [  591     0   296 10373    38     0     0]\n",
            " [ 7101     0   897    10 44334     0     0]\n",
            " [  320     0     0     0     6   153     1]\n",
            " [  157     0    34     0    32     0  3560]]\n"
          ]
        }
      ]
    },
    {
      "cell_type": "code",
      "source": [
        "## TF-IDF + RF\n",
        "from sklearn.ensemble import RandomForestClassifier\n",
        "\n",
        "rf = RandomForestClassifier(n_estimators=10, criterion='gini')\n",
        "rf.fit(train_features, y_train)\n",
        "print(rf.score(test_features, y_val))"
      ],
      "metadata": {
        "colab": {
          "base_uri": "https://localhost:8080/"
        },
        "id": "SzTPsHvst-_x",
        "outputId": "5d77be40-fe6b-42b9-b158-85cc9115b3c0"
      },
      "execution_count": null,
      "outputs": [
        {
          "output_type": "stream",
          "name": "stdout",
          "text": [
            "0.9599019939168638\n"
          ]
        }
      ]
    },
    {
      "cell_type": "code",
      "source": [
        "y_predict = rf.predict(test_features)"
      ],
      "metadata": {
        "id": "jHhMqcIcUijK"
      },
      "execution_count": null,
      "outputs": []
    },
    {
      "cell_type": "code",
      "source": [
        "y_predict = rf.predict(test_features)\n",
        "print(classification_report(y_val,y_predict))\n",
        "print('Confusion Matrix: \\n',confusion_matrix(y_val, y_predict))"
      ],
      "metadata": {
        "colab": {
          "base_uri": "https://localhost:8080/"
        },
        "id": "8OIjKiPXt_CY",
        "outputId": "ed1f5896-b14e-4145-c61a-1aef2abbddca"
      },
      "execution_count": null,
      "outputs": [
        {
          "output_type": "stream",
          "name": "stdout",
          "text": [
            "                                        precision    recall  f1-score   support\n",
            "\n",
            "                          000 - Normal       0.92      0.99      0.96     45353\n",
            "                  126 - Path Traversal       1.00      0.92      0.96      3504\n",
            "         153 - Input Data Manipulation       0.48      0.20      0.28      1600\n",
            "         194 - Fake the Source of Data       1.00      0.93      0.96     11298\n",
            "                  242 - Code Injection       0.99      0.96      0.98     52342\n",
            "310 - Scanning for Vulnerable Software       0.88      0.98      0.93       480\n",
            "          34 - HTTP Response Splitting       1.00      1.00      1.00      3783\n",
            "\n",
            "                              accuracy                           0.96    118360\n",
            "                             macro avg       0.90      0.85      0.87    118360\n",
            "                          weighted avg       0.96      0.96      0.96    118360\n",
            "\n",
            "Confusion Matrix: \n",
            " [[44992     3    45     4   270    39     0]\n",
            " [  227  3230    24     0    22     1     0]\n",
            " [ 1080     0   312    20   169    19     0]\n",
            " [  612     0    84 10510    91     1     0]\n",
            " [ 1839     2   181     0 50316     4     0]\n",
            " [    8     1     0     0     0   471     0]\n",
            " [    0     0     0     0     0     0  3783]]\n"
          ]
        }
      ]
    },
    {
      "cell_type": "markdown",
      "source": [
        "## Test for unseen data"
      ],
      "metadata": {
        "id": "UmGIyjHkuooa"
      }
    },
    {
      "cell_type": "code",
      "source": [
        "df_transfer = pd.read_csv('dataset_capec_transfer.csv')\n",
        "df_transfer.head()"
      ],
      "metadata": {
        "colab": {
          "base_uri": "https://localhost:8080/",
          "height": 206
        },
        "id": "qz2CfV-7t_FA",
        "outputId": "93a25b6d-0998-41d5-c442-f2263b3f9031"
      },
      "execution_count": null,
      "outputs": [
        {
          "output_type": "execute_result",
          "data": {
            "text/plain": [
              "                                                text  \\\n",
              "0  POST /vendor/phpunit/phpunit/src/Util/PHP/eval...   \n",
              "1  POST /cgi-bin/ViewLog.asp  remote_submit_Flag=...   \n",
              "2                                    GET /.svn/wc.db   \n",
              "3                               GET /blog/.svn/wc.db   \n",
              "4          GET /blog/index.php/my-account/.svn/wc.db   \n",
              "\n",
              "                           label  \n",
              "0  153 - Input Data Manipulation  \n",
              "1  153 - Input Data Manipulation  \n",
              "2  153 - Input Data Manipulation  \n",
              "3  153 - Input Data Manipulation  \n",
              "4  153 - Input Data Manipulation  "
            ],
            "text/html": [
              "\n",
              "  <div id=\"df-093a58d7-3781-4cb4-b99f-ba72e45d13f5\">\n",
              "    <div class=\"colab-df-container\">\n",
              "      <div>\n",
              "<style scoped>\n",
              "    .dataframe tbody tr th:only-of-type {\n",
              "        vertical-align: middle;\n",
              "    }\n",
              "\n",
              "    .dataframe tbody tr th {\n",
              "        vertical-align: top;\n",
              "    }\n",
              "\n",
              "    .dataframe thead th {\n",
              "        text-align: right;\n",
              "    }\n",
              "</style>\n",
              "<table border=\"1\" class=\"dataframe\">\n",
              "  <thead>\n",
              "    <tr style=\"text-align: right;\">\n",
              "      <th></th>\n",
              "      <th>text</th>\n",
              "      <th>label</th>\n",
              "    </tr>\n",
              "  </thead>\n",
              "  <tbody>\n",
              "    <tr>\n",
              "      <th>0</th>\n",
              "      <td>POST /vendor/phpunit/phpunit/src/Util/PHP/eval...</td>\n",
              "      <td>153 - Input Data Manipulation</td>\n",
              "    </tr>\n",
              "    <tr>\n",
              "      <th>1</th>\n",
              "      <td>POST /cgi-bin/ViewLog.asp  remote_submit_Flag=...</td>\n",
              "      <td>153 - Input Data Manipulation</td>\n",
              "    </tr>\n",
              "    <tr>\n",
              "      <th>2</th>\n",
              "      <td>GET /.svn/wc.db</td>\n",
              "      <td>153 - Input Data Manipulation</td>\n",
              "    </tr>\n",
              "    <tr>\n",
              "      <th>3</th>\n",
              "      <td>GET /blog/.svn/wc.db</td>\n",
              "      <td>153 - Input Data Manipulation</td>\n",
              "    </tr>\n",
              "    <tr>\n",
              "      <th>4</th>\n",
              "      <td>GET /blog/index.php/my-account/.svn/wc.db</td>\n",
              "      <td>153 - Input Data Manipulation</td>\n",
              "    </tr>\n",
              "  </tbody>\n",
              "</table>\n",
              "</div>\n",
              "      <button class=\"colab-df-convert\" onclick=\"convertToInteractive('df-093a58d7-3781-4cb4-b99f-ba72e45d13f5')\"\n",
              "              title=\"Convert this dataframe to an interactive table.\"\n",
              "              style=\"display:none;\">\n",
              "        \n",
              "  <svg xmlns=\"http://www.w3.org/2000/svg\" height=\"24px\"viewBox=\"0 0 24 24\"\n",
              "       width=\"24px\">\n",
              "    <path d=\"M0 0h24v24H0V0z\" fill=\"none\"/>\n",
              "    <path d=\"M18.56 5.44l.94 2.06.94-2.06 2.06-.94-2.06-.94-.94-2.06-.94 2.06-2.06.94zm-11 1L8.5 8.5l.94-2.06 2.06-.94-2.06-.94L8.5 2.5l-.94 2.06-2.06.94zm10 10l.94 2.06.94-2.06 2.06-.94-2.06-.94-.94-2.06-.94 2.06-2.06.94z\"/><path d=\"M17.41 7.96l-1.37-1.37c-.4-.4-.92-.59-1.43-.59-.52 0-1.04.2-1.43.59L10.3 9.45l-7.72 7.72c-.78.78-.78 2.05 0 2.83L4 21.41c.39.39.9.59 1.41.59.51 0 1.02-.2 1.41-.59l7.78-7.78 2.81-2.81c.8-.78.8-2.07 0-2.86zM5.41 20L4 18.59l7.72-7.72 1.47 1.35L5.41 20z\"/>\n",
              "  </svg>\n",
              "      </button>\n",
              "      \n",
              "  <style>\n",
              "    .colab-df-container {\n",
              "      display:flex;\n",
              "      flex-wrap:wrap;\n",
              "      gap: 12px;\n",
              "    }\n",
              "\n",
              "    .colab-df-convert {\n",
              "      background-color: #E8F0FE;\n",
              "      border: none;\n",
              "      border-radius: 50%;\n",
              "      cursor: pointer;\n",
              "      display: none;\n",
              "      fill: #1967D2;\n",
              "      height: 32px;\n",
              "      padding: 0 0 0 0;\n",
              "      width: 32px;\n",
              "    }\n",
              "\n",
              "    .colab-df-convert:hover {\n",
              "      background-color: #E2EBFA;\n",
              "      box-shadow: 0px 1px 2px rgba(60, 64, 67, 0.3), 0px 1px 3px 1px rgba(60, 64, 67, 0.15);\n",
              "      fill: #174EA6;\n",
              "    }\n",
              "\n",
              "    [theme=dark] .colab-df-convert {\n",
              "      background-color: #3B4455;\n",
              "      fill: #D2E3FC;\n",
              "    }\n",
              "\n",
              "    [theme=dark] .colab-df-convert:hover {\n",
              "      background-color: #434B5C;\n",
              "      box-shadow: 0px 1px 3px 1px rgba(0, 0, 0, 0.15);\n",
              "      filter: drop-shadow(0px 1px 2px rgba(0, 0, 0, 0.3));\n",
              "      fill: #FFFFFF;\n",
              "    }\n",
              "  </style>\n",
              "\n",
              "      <script>\n",
              "        const buttonEl =\n",
              "          document.querySelector('#df-093a58d7-3781-4cb4-b99f-ba72e45d13f5 button.colab-df-convert');\n",
              "        buttonEl.style.display =\n",
              "          google.colab.kernel.accessAllowed ? 'block' : 'none';\n",
              "\n",
              "        async function convertToInteractive(key) {\n",
              "          const element = document.querySelector('#df-093a58d7-3781-4cb4-b99f-ba72e45d13f5');\n",
              "          const dataTable =\n",
              "            await google.colab.kernel.invokeFunction('convertToInteractive',\n",
              "                                                     [key], {});\n",
              "          if (!dataTable) return;\n",
              "\n",
              "          const docLinkHtml = 'Like what you see? Visit the ' +\n",
              "            '<a target=\"_blank\" href=https://colab.research.google.com/notebooks/data_table.ipynb>data table notebook</a>'\n",
              "            + ' to learn more about interactive tables.';\n",
              "          element.innerHTML = '';\n",
              "          dataTable['output_type'] = 'display_data';\n",
              "          await google.colab.output.renderOutput(dataTable, element);\n",
              "          const docLink = document.createElement('div');\n",
              "          docLink.innerHTML = docLinkHtml;\n",
              "          element.appendChild(docLink);\n",
              "        }\n",
              "      </script>\n",
              "    </div>\n",
              "  </div>\n",
              "  "
            ]
          },
          "metadata": {},
          "execution_count": 26
        }
      ]
    },
    {
      "cell_type": "code",
      "source": [
        "df_transfer.label.unique()"
      ],
      "metadata": {
        "colab": {
          "base_uri": "https://localhost:8080/"
        },
        "id": "Gi-Ncb3xqoub",
        "outputId": "ea9c3cc8-c2e2-483f-dca0-c920736fc616"
      },
      "execution_count": null,
      "outputs": [
        {
          "output_type": "execute_result",
          "data": {
            "text/plain": [
              "array(['153 - Input Data Manipulation', '242 - Code Injection',\n",
              "       '126 - Path Traversal', '34 - HTTP Response Splitting'],\n",
              "      dtype=object)"
            ]
          },
          "metadata": {},
          "execution_count": 27
        }
      ]
    },
    {
      "cell_type": "code",
      "source": [
        "# Optional (not effect very much)\n",
        "df_transfer['text'] = df_transfer['text'].str.replace('/',' ')\n",
        "df_transfer.head()"
      ],
      "metadata": {
        "colab": {
          "base_uri": "https://localhost:8080/",
          "height": 206
        },
        "id": "U5tVJGIMICzK",
        "outputId": "28304f21-e272-4339-ff9f-1d68f8bc3b55"
      },
      "execution_count": null,
      "outputs": [
        {
          "output_type": "execute_result",
          "data": {
            "text/plain": [
              "                                                text  \\\n",
              "0  POST  vendor phpunit phpunit src Util PHP eval...   \n",
              "1  POST  cgi-bin ViewLog.asp  remote_submit_Flag=...   \n",
              "2                                    GET  .svn wc.db   \n",
              "3                               GET  blog .svn wc.db   \n",
              "4          GET  blog index.php my-account .svn wc.db   \n",
              "\n",
              "                           label  \n",
              "0  153 - Input Data Manipulation  \n",
              "1  153 - Input Data Manipulation  \n",
              "2  153 - Input Data Manipulation  \n",
              "3  153 - Input Data Manipulation  \n",
              "4  153 - Input Data Manipulation  "
            ],
            "text/html": [
              "\n",
              "  <div id=\"df-6f4da0a7-6d90-4b88-adf7-4d9e3ae23bc8\">\n",
              "    <div class=\"colab-df-container\">\n",
              "      <div>\n",
              "<style scoped>\n",
              "    .dataframe tbody tr th:only-of-type {\n",
              "        vertical-align: middle;\n",
              "    }\n",
              "\n",
              "    .dataframe tbody tr th {\n",
              "        vertical-align: top;\n",
              "    }\n",
              "\n",
              "    .dataframe thead th {\n",
              "        text-align: right;\n",
              "    }\n",
              "</style>\n",
              "<table border=\"1\" class=\"dataframe\">\n",
              "  <thead>\n",
              "    <tr style=\"text-align: right;\">\n",
              "      <th></th>\n",
              "      <th>text</th>\n",
              "      <th>label</th>\n",
              "    </tr>\n",
              "  </thead>\n",
              "  <tbody>\n",
              "    <tr>\n",
              "      <th>0</th>\n",
              "      <td>POST  vendor phpunit phpunit src Util PHP eval...</td>\n",
              "      <td>153 - Input Data Manipulation</td>\n",
              "    </tr>\n",
              "    <tr>\n",
              "      <th>1</th>\n",
              "      <td>POST  cgi-bin ViewLog.asp  remote_submit_Flag=...</td>\n",
              "      <td>153 - Input Data Manipulation</td>\n",
              "    </tr>\n",
              "    <tr>\n",
              "      <th>2</th>\n",
              "      <td>GET  .svn wc.db</td>\n",
              "      <td>153 - Input Data Manipulation</td>\n",
              "    </tr>\n",
              "    <tr>\n",
              "      <th>3</th>\n",
              "      <td>GET  blog .svn wc.db</td>\n",
              "      <td>153 - Input Data Manipulation</td>\n",
              "    </tr>\n",
              "    <tr>\n",
              "      <th>4</th>\n",
              "      <td>GET  blog index.php my-account .svn wc.db</td>\n",
              "      <td>153 - Input Data Manipulation</td>\n",
              "    </tr>\n",
              "  </tbody>\n",
              "</table>\n",
              "</div>\n",
              "      <button class=\"colab-df-convert\" onclick=\"convertToInteractive('df-6f4da0a7-6d90-4b88-adf7-4d9e3ae23bc8')\"\n",
              "              title=\"Convert this dataframe to an interactive table.\"\n",
              "              style=\"display:none;\">\n",
              "        \n",
              "  <svg xmlns=\"http://www.w3.org/2000/svg\" height=\"24px\"viewBox=\"0 0 24 24\"\n",
              "       width=\"24px\">\n",
              "    <path d=\"M0 0h24v24H0V0z\" fill=\"none\"/>\n",
              "    <path d=\"M18.56 5.44l.94 2.06.94-2.06 2.06-.94-2.06-.94-.94-2.06-.94 2.06-2.06.94zm-11 1L8.5 8.5l.94-2.06 2.06-.94-2.06-.94L8.5 2.5l-.94 2.06-2.06.94zm10 10l.94 2.06.94-2.06 2.06-.94-2.06-.94-.94-2.06-.94 2.06-2.06.94z\"/><path d=\"M17.41 7.96l-1.37-1.37c-.4-.4-.92-.59-1.43-.59-.52 0-1.04.2-1.43.59L10.3 9.45l-7.72 7.72c-.78.78-.78 2.05 0 2.83L4 21.41c.39.39.9.59 1.41.59.51 0 1.02-.2 1.41-.59l7.78-7.78 2.81-2.81c.8-.78.8-2.07 0-2.86zM5.41 20L4 18.59l7.72-7.72 1.47 1.35L5.41 20z\"/>\n",
              "  </svg>\n",
              "      </button>\n",
              "      \n",
              "  <style>\n",
              "    .colab-df-container {\n",
              "      display:flex;\n",
              "      flex-wrap:wrap;\n",
              "      gap: 12px;\n",
              "    }\n",
              "\n",
              "    .colab-df-convert {\n",
              "      background-color: #E8F0FE;\n",
              "      border: none;\n",
              "      border-radius: 50%;\n",
              "      cursor: pointer;\n",
              "      display: none;\n",
              "      fill: #1967D2;\n",
              "      height: 32px;\n",
              "      padding: 0 0 0 0;\n",
              "      width: 32px;\n",
              "    }\n",
              "\n",
              "    .colab-df-convert:hover {\n",
              "      background-color: #E2EBFA;\n",
              "      box-shadow: 0px 1px 2px rgba(60, 64, 67, 0.3), 0px 1px 3px 1px rgba(60, 64, 67, 0.15);\n",
              "      fill: #174EA6;\n",
              "    }\n",
              "\n",
              "    [theme=dark] .colab-df-convert {\n",
              "      background-color: #3B4455;\n",
              "      fill: #D2E3FC;\n",
              "    }\n",
              "\n",
              "    [theme=dark] .colab-df-convert:hover {\n",
              "      background-color: #434B5C;\n",
              "      box-shadow: 0px 1px 3px 1px rgba(0, 0, 0, 0.15);\n",
              "      filter: drop-shadow(0px 1px 2px rgba(0, 0, 0, 0.3));\n",
              "      fill: #FFFFFF;\n",
              "    }\n",
              "  </style>\n",
              "\n",
              "      <script>\n",
              "        const buttonEl =\n",
              "          document.querySelector('#df-6f4da0a7-6d90-4b88-adf7-4d9e3ae23bc8 button.colab-df-convert');\n",
              "        buttonEl.style.display =\n",
              "          google.colab.kernel.accessAllowed ? 'block' : 'none';\n",
              "\n",
              "        async function convertToInteractive(key) {\n",
              "          const element = document.querySelector('#df-6f4da0a7-6d90-4b88-adf7-4d9e3ae23bc8');\n",
              "          const dataTable =\n",
              "            await google.colab.kernel.invokeFunction('convertToInteractive',\n",
              "                                                     [key], {});\n",
              "          if (!dataTable) return;\n",
              "\n",
              "          const docLinkHtml = 'Like what you see? Visit the ' +\n",
              "            '<a target=\"_blank\" href=https://colab.research.google.com/notebooks/data_table.ipynb>data table notebook</a>'\n",
              "            + ' to learn more about interactive tables.';\n",
              "          element.innerHTML = '';\n",
              "          dataTable['output_type'] = 'display_data';\n",
              "          await google.colab.output.renderOutput(dataTable, element);\n",
              "          const docLink = document.createElement('div');\n",
              "          docLink.innerHTML = docLinkHtml;\n",
              "          element.appendChild(docLink);\n",
              "        }\n",
              "      </script>\n",
              "    </div>\n",
              "  </div>\n",
              "  "
            ]
          },
          "metadata": {},
          "execution_count": 28
        }
      ]
    },
    {
      "cell_type": "code",
      "source": [
        "vec = TfidfVectorizer(analyzer='word', input='content', max_features=300)\n",
        "transfer_feature = vec.fit_transform(df_transfer['text']).toarray()"
      ],
      "metadata": {
        "id": "tYfsqbsHt_H_"
      },
      "execution_count": null,
      "outputs": []
    },
    {
      "cell_type": "code",
      "source": [
        "y_transfer = df_transfer['label']"
      ],
      "metadata": {
        "id": "3OWhab0VwlC_"
      },
      "execution_count": null,
      "outputs": []
    },
    {
      "cell_type": "markdown",
      "source": [
        "### 153 bị nhầm nhiều với 242, 126 cũng bị nhầm nhiều với 242 (có nên đổi label của 153 và 126 thành 242?)"
      ],
      "metadata": {
        "id": "cKqTaWTrrnEX"
      }
    },
    {
      "cell_type": "code",
      "source": [
        "y_predict = mnb.predict(transfer_feature)\n",
        "print(classification_report(y_transfer,y_predict))\n",
        "print('Confusion Matrix: \\n',confusion_matrix(y_transfer, y_predict))"
      ],
      "metadata": {
        "colab": {
          "base_uri": "https://localhost:8080/"
        },
        "id": "leInuQ5Gdqf2",
        "outputId": "20190794-b4d3-4979-b377-73a19595c9a5"
      },
      "execution_count": null,
      "outputs": [
        {
          "output_type": "stream",
          "name": "stdout",
          "text": [
            "                               precision    recall  f1-score   support\n",
            "\n",
            "                 000 - Normal       0.00      0.00      0.00         0\n",
            "         126 - Path Traversal       0.00      0.00      0.00       167\n",
            "153 - Input Data Manipulation       0.00      0.00      0.00      1950\n",
            "194 - Fake the Source of Data       0.00      0.00      0.00         0\n",
            "         242 - Code Injection       0.83      0.89      0.86      9168\n",
            " 34 - HTTP Response Splitting       0.58      0.39      0.46       534\n",
            "\n",
            "                     accuracy                           0.70     11819\n",
            "                    macro avg       0.23      0.21      0.22     11819\n",
            "                 weighted avg       0.67      0.70      0.69     11819\n",
            "\n",
            "Confusion Matrix: \n",
            " [[   0    0    0    0    0    0]\n",
            " [  13    0    0   11  143    0]\n",
            " [ 568    0    0   86 1283   13]\n",
            " [   0    0    0    0    0    0]\n",
            " [ 802    0    4  104 8119  139]\n",
            " [  84    2    2    3  236  207]]\n"
          ]
        },
        {
          "output_type": "stream",
          "name": "stderr",
          "text": [
            "/usr/local/lib/python3.9/dist-packages/sklearn/metrics/_classification.py:1344: UndefinedMetricWarning: Recall and F-score are ill-defined and being set to 0.0 in labels with no true samples. Use `zero_division` parameter to control this behavior.\n",
            "  _warn_prf(average, modifier, msg_start, len(result))\n",
            "/usr/local/lib/python3.9/dist-packages/sklearn/metrics/_classification.py:1344: UndefinedMetricWarning: Recall and F-score are ill-defined and being set to 0.0 in labels with no true samples. Use `zero_division` parameter to control this behavior.\n",
            "  _warn_prf(average, modifier, msg_start, len(result))\n",
            "/usr/local/lib/python3.9/dist-packages/sklearn/metrics/_classification.py:1344: UndefinedMetricWarning: Recall and F-score are ill-defined and being set to 0.0 in labels with no true samples. Use `zero_division` parameter to control this behavior.\n",
            "  _warn_prf(average, modifier, msg_start, len(result))\n"
          ]
        }
      ]
    },
    {
      "cell_type": "code",
      "source": [
        "print(rf.score(transfer_feature, y_transfer))"
      ],
      "metadata": {
        "colab": {
          "base_uri": "https://localhost:8080/"
        },
        "id": "RyNWhw7nw2f8",
        "outputId": "bc8c1266-4257-4c37-d99e-14a39d468cc1"
      },
      "execution_count": null,
      "outputs": [
        {
          "output_type": "stream",
          "name": "stdout",
          "text": [
            "0.3943650054996193\n"
          ]
        }
      ]
    },
    {
      "cell_type": "markdown",
      "source": [
        "## 126 bị nhầm nhiều với 242, 194 bị nhầm nhiều với 310, 34 bị nhầm nhiều với 194"
      ],
      "metadata": {
        "id": "052NRtWIsmvV"
      }
    },
    {
      "cell_type": "code",
      "source": [
        "y_predict = rf.predict(transfer_feature)\n",
        "print(classification_report(y_transfer,y_predict))\n",
        "print('Confusion Matrix: \\n',confusion_matrix(y_transfer, y_predict))"
      ],
      "metadata": {
        "colab": {
          "base_uri": "https://localhost:8080/"
        },
        "id": "CrO5ePkgrSnV",
        "outputId": "66716683-0e5f-470a-ae11-9ac0bbdb9e89"
      },
      "execution_count": null,
      "outputs": [
        {
          "output_type": "stream",
          "name": "stdout",
          "text": [
            "                                        precision    recall  f1-score   support\n",
            "\n",
            "                          000 - Normal       0.00      0.00      0.00         0\n",
            "                  126 - Path Traversal       0.06      0.11      0.08       167\n",
            "         153 - Input Data Manipulation       0.81      0.10      0.18      1950\n",
            "         194 - Fake the Source of Data       0.00      0.00      0.00         0\n",
            "                  242 - Code Injection       0.95      0.49      0.64      9168\n",
            "310 - Scanning for Vulnerable Software       0.00      0.00      0.00         0\n",
            "          34 - HTTP Response Splitting       0.02      0.01      0.01       534\n",
            "\n",
            "                              accuracy                           0.39     11819\n",
            "                             macro avg       0.26      0.10      0.13     11819\n",
            "                          weighted avg       0.87      0.39      0.53     11819\n",
            "\n",
            "Confusion Matrix: \n",
            " [[   0    0    0    0    0    0    0]\n",
            " [  12   18    0    9   96   32    0]\n",
            " [ 547   16  192  100  136  959    0]\n",
            " [   0    0    0    0    0    0    0]\n",
            " [2004  249   44 1594 4447  669  161]\n",
            " [   0    0    0    0    0    0    0]\n",
            " [   4   23    1  297   22  183    4]]\n"
          ]
        },
        {
          "output_type": "stream",
          "name": "stderr",
          "text": [
            "/usr/local/lib/python3.9/dist-packages/sklearn/metrics/_classification.py:1344: UndefinedMetricWarning: Recall and F-score are ill-defined and being set to 0.0 in labels with no true samples. Use `zero_division` parameter to control this behavior.\n",
            "  _warn_prf(average, modifier, msg_start, len(result))\n",
            "/usr/local/lib/python3.9/dist-packages/sklearn/metrics/_classification.py:1344: UndefinedMetricWarning: Recall and F-score are ill-defined and being set to 0.0 in labels with no true samples. Use `zero_division` parameter to control this behavior.\n",
            "  _warn_prf(average, modifier, msg_start, len(result))\n",
            "/usr/local/lib/python3.9/dist-packages/sklearn/metrics/_classification.py:1344: UndefinedMetricWarning: Recall and F-score are ill-defined and being set to 0.0 in labels with no true samples. Use `zero_division` parameter to control this behavior.\n",
            "  _warn_prf(average, modifier, msg_start, len(result))\n"
          ]
        }
      ]
    },
    {
      "cell_type": "markdown",
      "source": [
        "## Deep Neural Nets"
      ],
      "metadata": {
        "id": "y-WXfnCc3D-o"
      }
    },
    {
      "cell_type": "code",
      "source": [
        "import pandas as pd\n",
        "import numpy as np\n",
        "import string\n",
        "from nltk.corpus import stopwords\n",
        "from nltk.tokenize import word_tokenize\n",
        "from gensim.models import Word2Vec\n",
        "from tensorflow.keras.preprocessing.text import Tokenizer\n",
        "from tensorflow.keras.preprocessing.sequence import pad_sequences\n",
        "from tensorflow.keras.layers import Embedding, Conv1D, MaxPooling1D, Flatten, Dense\n",
        "from tensorflow.keras.models import Sequential\n",
        "from sklearn.model_selection import train_test_split"
      ],
      "metadata": {
        "id": "Gm706LAPtolX"
      },
      "execution_count": null,
      "outputs": []
    },
    {
      "cell_type": "code",
      "source": [
        "import tensorflow as tf"
      ],
      "metadata": {
        "id": "PlV1RCm4KvwS"
      },
      "execution_count": null,
      "outputs": []
    },
    {
      "cell_type": "code",
      "source": [
        "## Reduce data for testing\n",
        "df_242 = df_train[(df_train['label'] == '242 - Code Injection')]\n",
        "df_242 = df_242.sample(frac = 1)\n",
        "df_242 = df_242[:50000]\n",
        "df_000 = df_train[(df_train['label'] == '000 - Normal')]\n",
        "df_000 = df_000.sample(frac = 1)\n",
        "df_000 = df_000[:50000]"
      ],
      "metadata": {
        "id": "bnAToqWDNLcj"
      },
      "execution_count": null,
      "outputs": []
    },
    {
      "cell_type": "code",
      "source": [
        "df_sub = df_train[(df_train['label'] != '000 - Normal') & (df_train['label'] != '242 - Code Injection')]"
      ],
      "metadata": {
        "id": "7fjOfaHsN9VK"
      },
      "execution_count": null,
      "outputs": []
    },
    {
      "cell_type": "code",
      "source": [
        "df_train = pd.concat([df_train,df_242,df_000], ignore_index=True)"
      ],
      "metadata": {
        "id": "trPbTlI8OrNM"
      },
      "execution_count": null,
      "outputs": []
    },
    {
      "cell_type": "code",
      "source": [
        "possible_labels = df_train.label.unique()\n",
        "\n",
        "label_dict = {}\n",
        "for index, possible_label in enumerate(possible_labels):\n",
        "    label_dict[possible_label] = index\n",
        "label_dict"
      ],
      "metadata": {
        "colab": {
          "base_uri": "https://localhost:8080/"
        },
        "id": "i6mkVRdOMasy",
        "outputId": "bb09bc5b-53ae-4ab1-e778-70e0aff3fa4d"
      },
      "execution_count": null,
      "outputs": [
        {
          "output_type": "execute_result",
          "data": {
            "text/plain": [
              "{'000 - Normal': 0,\n",
              " '126 - Path Traversal': 1,\n",
              " '242 - Code Injection': 2,\n",
              " '153 - Input Data Manipulation': 3,\n",
              " '310 - Scanning for Vulnerable Software': 4,\n",
              " '194 - Fake the Source of Data': 5,\n",
              " '34 - HTTP Response Splitting': 6}"
            ]
          },
          "metadata": {},
          "execution_count": 25
        }
      ]
    },
    {
      "cell_type": "code",
      "source": [
        "df_train['label_int'] = df_train.label.replace(label_dict)"
      ],
      "metadata": {
        "id": "ni15XLCHMfGK"
      },
      "execution_count": null,
      "outputs": []
    },
    {
      "cell_type": "code",
      "source": [
        "x_train, x_test, y_train, y_test = train_test_split(df_train[\"text\"],\n",
        "                                                  df_train[\"label_int\"],\n",
        "                                                  test_size=0.2,\n",
        "                                                  shuffle=True)\n",
        "\n",
        "w2v = Word2Vec([sentence.lower().split() for sentence in x_train.values])\n",
        "\n",
        "maxlen = 100\n",
        "tokenizer = Tokenizer(num_words=10000, oov_token='<OOV>')\n",
        "tokenizer.fit_on_texts(x_train)\n",
        "\n",
        "word_index = tokenizer.word_index\n",
        "vocab_size = len(word_index) + 1\n",
        "\n",
        "x_train_sequences = tokenizer.texts_to_sequences(x_train)\n",
        "x_test_sequences = tokenizer.texts_to_sequences(x_test)\n",
        "\n",
        "x_train = pad_sequences(x_train_sequences, \n",
        "                                maxlen=100,\n",
        "                                padding='post',\n",
        "                                truncating='post')\n",
        "\n",
        "x_test = pad_sequences(x_test_sequences,\n",
        "                             maxlen=100,\n",
        "                             padding='post',\n",
        "                             truncating='post')\n",
        "\n",
        "embedding_matrix = np.zeros((len(word_index)+1, 100))\n",
        "for word,i in word_index.items():\n",
        "    try:\n",
        "        embedding_matrix[i] = w2v.wv[i]\n",
        "    except:\n",
        "        embedding_matrix[i] = np.zeros(100)\n",
        "\n",
        "model = tf.keras.Sequential([\n",
        "    tf.keras.layers.Embedding(vocab_size, 100, input_length=100,\n",
        "        weights=[embedding_matrix]),\n",
        "    tf.keras.layers.LSTM(128),\n",
        "    tf.keras.layers.Dense(128, activation='relu'),\n",
        "    tf.keras.layers.Dense(7, activation='softmax')\n",
        "])\n",
        "\n",
        "model.compile(optimizer='adam', metrics=['acc'], \n",
        "        loss='sparse_categorical_crossentropy')\n",
        "\n",
        "model.fit(x_train, y_train, validation_data=(x_test, y_test), epochs=2)"
      ],
      "metadata": {
        "colab": {
          "base_uri": "https://localhost:8080/"
        },
        "id": "zJIUr2z1KZbi",
        "outputId": "bd3c54c7-614f-42a5-c832-700f5c150ad0"
      },
      "execution_count": null,
      "outputs": [
        {
          "output_type": "stream",
          "name": "stdout",
          "text": [
            "Epoch 1/2\n",
            "17295/17295 [==============================] - 219s 12ms/step - loss: 0.5177 - acc: 0.7780 - val_loss: 0.0984 - val_acc: 0.9726\n",
            "Epoch 2/2\n",
            "17295/17295 [==============================] - 177s 10ms/step - loss: 0.0906 - acc: 0.9742 - val_loss: 0.0874 - val_acc: 0.9752\n"
          ]
        },
        {
          "output_type": "execute_result",
          "data": {
            "text/plain": [
              "<keras.callbacks.History at 0x7f6f69923eb0>"
            ]
          },
          "metadata": {},
          "execution_count": 27
        }
      ]
    },
    {
      "cell_type": "code",
      "source": [
        "results = model.evaluate(x_test, y_test, batch_size=128)\n",
        "print(\"acc: \", results[1])"
      ],
      "metadata": {
        "colab": {
          "base_uri": "https://localhost:8080/"
        },
        "id": "LqSsHRVVRnws",
        "outputId": "65d3f289-31cb-42b8-e56a-95a8f71a93fd"
      },
      "execution_count": null,
      "outputs": [
        {
          "output_type": "stream",
          "name": "stdout",
          "text": [
            "1081/1081 [==============================] - 5s 5ms/step - loss: 0.0874 - acc: 0.9752\n",
            "acc:  0.975216805934906\n"
          ]
        }
      ]
    },
    {
      "cell_type": "code",
      "source": [
        "def predict_class(reviews):\n",
        "  '''predict class of input text\n",
        "  Args:\n",
        "    - reviews (list of strings)\n",
        "  Output:\n",
        "    - class (list of int)\n",
        "  '''\n",
        "  return [np.argmax(pred) for pred in model.predict(reviews)]\n",
        "\n"
      ],
      "metadata": {
        "id": "y-PnK9YvU0TR"
      },
      "execution_count": null,
      "outputs": []
    },
    {
      "cell_type": "code",
      "source": [
        "from sklearn.metrics import classification_report\n",
        "\n",
        "y_pred = predict_class(x_test)\n",
        "\n",
        "print(classification_report(y_test, y_pred))"
      ],
      "metadata": {
        "colab": {
          "base_uri": "https://localhost:8080/"
        },
        "id": "IPRXZu8OQWlT",
        "outputId": "f3186f4a-3ac6-4990-fecc-d73c451df49a"
      },
      "execution_count": null,
      "outputs": [
        {
          "output_type": "stream",
          "name": "stdout",
          "text": [
            "4324/4324 [==============================] - 14s 3ms/step\n",
            "              precision    recall  f1-score   support\n",
            "\n",
            "           0       0.95      1.00      0.97     55476\n",
            "           1       0.98      0.96      0.97      3523\n",
            "           2       0.99      0.98      0.99     62300\n",
            "           3       0.87      0.34      0.49      1702\n",
            "           4       0.94      0.96      0.95       478\n",
            "           5       1.00      0.93      0.96     11083\n",
            "           6       1.00      1.00      1.00      3798\n",
            "\n",
            "    accuracy                           0.98    138360\n",
            "   macro avg       0.96      0.88      0.91    138360\n",
            "weighted avg       0.98      0.98      0.97    138360\n",
            "\n"
          ]
        }
      ]
    },
    {
      "cell_type": "code",
      "source": [
        "df_transfer['int_label'] = 0"
      ],
      "metadata": {
        "id": "hMUuTGGaWl7n"
      },
      "execution_count": null,
      "outputs": []
    },
    {
      "cell_type": "code",
      "source": [
        "w2v = Word2Vec([sentence.lower().split() for sentence in df_transfer['text'].values])\n",
        "\n",
        "maxlen = 100\n",
        "tokenizer = Tokenizer(num_words=10000, oov_token='<OOV>')\n",
        "tokenizer.fit_on_texts(df_transfer['text'])\n",
        "\n",
        "word_index = tokenizer.word_index\n",
        "vocab_size = len(word_index) + 1\n",
        "\n",
        "x_train_sequences = tokenizer.texts_to_sequences(df_transfer['text'])\n",
        "\n",
        "x_transfer = pad_sequences(x_train_sequences, \n",
        "                                maxlen=100,\n",
        "                                padding='post',\n",
        "                                truncating='post')"
      ],
      "metadata": {
        "id": "dI8g42onWEmA"
      },
      "execution_count": null,
      "outputs": []
    },
    {
      "cell_type": "code",
      "source": [
        "print(1 - model.evaluate(x_transfer, df_transfer['int_label'], batch_size=128)[1])"
      ],
      "metadata": {
        "colab": {
          "base_uri": "https://localhost:8080/"
        },
        "id": "ErsUaNGr4FNl",
        "outputId": "2be40eeb-ef1f-44de-ea6e-e47669064e0e"
      },
      "execution_count": null,
      "outputs": [
        {
          "output_type": "stream",
          "name": "stdout",
          "text": [
            "95/95 [==============================] - 1s 8ms/step - loss: 7.3830 - acc: 0.1557\n",
            "0.8442886620759964\n"
          ]
        }
      ]
    },
    {
      "cell_type": "code",
      "source": [],
      "metadata": {
        "id": "jQ9K--s94Fyt"
      },
      "execution_count": null,
      "outputs": []
    },
    {
      "cell_type": "code",
      "source": [],
      "metadata": {
        "id": "2QeyvH5u4F1E"
      },
      "execution_count": null,
      "outputs": []
    },
    {
      "cell_type": "code",
      "source": [],
      "metadata": {
        "id": "T8W6sNXD4F3w"
      },
      "execution_count": null,
      "outputs": []
    },
    {
      "cell_type": "code",
      "source": [],
      "metadata": {
        "id": "AI1fsa9N4F6l"
      },
      "execution_count": null,
      "outputs": []
    }
  ]
}