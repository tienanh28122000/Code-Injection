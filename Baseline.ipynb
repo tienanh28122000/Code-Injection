{
  "cells": [
    {
      "cell_type": "code",
      "execution_count": null,
      "metadata": {
        "colab": {
          "base_uri": "https://localhost:8080/"
        },
        "id": "7ZMgATHzNciv",
        "outputId": "ead3568c-5dce-43f1-f6b7-e7774c194788"
      },
      "outputs": [
        {
          "name": "stderr",
          "output_type": "stream",
          "text": [
            "[nltk_data] Downloading package punkt to /root/nltk_data...\n",
            "[nltk_data]   Package punkt is already up-to-date!\n",
            "[nltk_data] Downloading package averaged_perceptron_tagger to\n",
            "[nltk_data]     /root/nltk_data...\n",
            "[nltk_data]   Package averaged_perceptron_tagger is already up-to-\n",
            "[nltk_data]       date!\n",
            "[nltk_data] Downloading package wordnet to /root/nltk_data...\n",
            "[nltk_data]   Package wordnet is already up-to-date!\n"
          ]
        }
      ],
      "source": [
        "import pandas as pd\n",
        "import numpy as np\n",
        "\n",
        "import seaborn as sns\n",
        "import matplotlib.pyplot as plt\n",
        "\n",
        "#for text pre-processing\n",
        "import re, string\n",
        "import nltk\n",
        "from nltk.tokenize import word_tokenize\n",
        "from nltk.corpus import stopwords\n",
        "from nltk.tokenize import word_tokenize\n",
        "from nltk.stem import SnowballStemmer\n",
        "from nltk.corpus import wordnet\n",
        "from nltk.stem import WordNetLemmatizer\n",
        "\n",
        "nltk.download('punkt')\n",
        "nltk.download('averaged_perceptron_tagger')\n",
        "nltk.download('wordnet')\n",
        "\n",
        "#for model-building\n",
        "from sklearn.model_selection import train_test_split\n",
        "from sklearn.linear_model import LogisticRegression\n",
        "from sklearn.linear_model import SGDClassifier\n",
        "from sklearn.naive_bayes import MultinomialNB\n",
        "from sklearn.metrics import classification_report, f1_score, accuracy_score, confusion_matrix\n",
        "from sklearn.metrics import roc_curve, auc, roc_auc_score\n",
        "\n",
        "# bag of words\n",
        "from sklearn.feature_extraction.text import TfidfVectorizer\n",
        "from sklearn.feature_extraction.text import CountVectorizer\n",
        "\n",
        "#for word embedding\n",
        "import gensim\n",
        "from gensim.models import Word2Vec #Word2Vec is mostly used for huge datasets"
      ]
    },
    {
      "cell_type": "code",
      "execution_count": null,
      "metadata": {
        "colab": {
          "base_uri": "https://localhost:8080/"
        },
        "id": "IFvBmI3aN0n0",
        "outputId": "2f38847d-0254-48a0-b478-d80752690b3f"
      },
      "outputs": [
        {
          "name": "stdout",
          "output_type": "stream",
          "text": [
            "Drive already mounted at /content/drive; to attempt to forcibly remount, call drive.mount(\"/content/drive\", force_remount=True).\n"
          ]
        }
      ],
      "source": [
        "from google.colab import drive\n",
        "drive.mount('/content/drive')"
      ]
    },
    {
      "cell_type": "code",
      "execution_count": null,
      "metadata": {
        "colab": {
          "base_uri": "https://localhost:8080/"
        },
        "id": "9vdlUa3GN0rM",
        "outputId": "081746e2-28f8-4171-9adf-986745746b44"
      },
      "outputs": [
        {
          "name": "stdout",
          "output_type": "stream",
          "text": [
            "/content/drive/MyDrive/Code_Injection_Dataset\n"
          ]
        }
      ],
      "source": [
        "%cd /content/drive/MyDrive/Code_Injection_Dataset"
      ]
    },
    {
      "cell_type": "code",
      "execution_count": null,
      "metadata": {
        "colab": {
          "base_uri": "https://localhost:8080/",
          "height": 206
        },
        "id": "vRCaqhhqN0um",
        "outputId": "4e2e902d-3a38-4a7e-9426-900c35b8005b"
      },
      "outputs": [
        {
          "data": {
            "text/html": [
              "\n",
              "  <div id=\"df-29f8f72c-f51e-4699-94e8-acfb0b10fa23\">\n",
              "    <div class=\"colab-df-container\">\n",
              "      <div>\n",
              "<style scoped>\n",
              "    .dataframe tbody tr th:only-of-type {\n",
              "        vertical-align: middle;\n",
              "    }\n",
              "\n",
              "    .dataframe tbody tr th {\n",
              "        vertical-align: top;\n",
              "    }\n",
              "\n",
              "    .dataframe thead th {\n",
              "        text-align: right;\n",
              "    }\n",
              "</style>\n",
              "<table border=\"1\" class=\"dataframe\">\n",
              "  <thead>\n",
              "    <tr style=\"text-align: right;\">\n",
              "      <th></th>\n",
              "      <th>text</th>\n",
              "      <th>label</th>\n",
              "    </tr>\n",
              "  </thead>\n",
              "  <tbody>\n",
              "    <tr>\n",
              "      <th>0</th>\n",
              "      <td>GET /blog/index.php/2020/04/04/voluptatum-repr...</td>\n",
              "      <td>000 - Normal</td>\n",
              "    </tr>\n",
              "    <tr>\n",
              "      <th>1</th>\n",
              "      <td>GET /blog/xmlrpc.php?rsd</td>\n",
              "      <td>000 - Normal</td>\n",
              "    </tr>\n",
              "    <tr>\n",
              "      <th>2</th>\n",
              "      <td>GET /blog/index.php/2020/04/04/nihil-tenetur-e...</td>\n",
              "      <td>000 - Normal</td>\n",
              "    </tr>\n",
              "    <tr>\n",
              "      <th>3</th>\n",
              "      <td>GET /blog/index.php/2020/04/04/explicabo-qui-f...</td>\n",
              "      <td>000 - Normal</td>\n",
              "    </tr>\n",
              "    <tr>\n",
              "      <th>4</th>\n",
              "      <td>GET /blog/index.php/2020/04/04/explicabo-qui-f...</td>\n",
              "      <td>000 - Normal</td>\n",
              "    </tr>\n",
              "  </tbody>\n",
              "</table>\n",
              "</div>\n",
              "      <button class=\"colab-df-convert\" onclick=\"convertToInteractive('df-29f8f72c-f51e-4699-94e8-acfb0b10fa23')\"\n",
              "              title=\"Convert this dataframe to an interactive table.\"\n",
              "              style=\"display:none;\">\n",
              "        \n",
              "  <svg xmlns=\"http://www.w3.org/2000/svg\" height=\"24px\"viewBox=\"0 0 24 24\"\n",
              "       width=\"24px\">\n",
              "    <path d=\"M0 0h24v24H0V0z\" fill=\"none\"/>\n",
              "    <path d=\"M18.56 5.44l.94 2.06.94-2.06 2.06-.94-2.06-.94-.94-2.06-.94 2.06-2.06.94zm-11 1L8.5 8.5l.94-2.06 2.06-.94-2.06-.94L8.5 2.5l-.94 2.06-2.06.94zm10 10l.94 2.06.94-2.06 2.06-.94-2.06-.94-.94-2.06-.94 2.06-2.06.94z\"/><path d=\"M17.41 7.96l-1.37-1.37c-.4-.4-.92-.59-1.43-.59-.52 0-1.04.2-1.43.59L10.3 9.45l-7.72 7.72c-.78.78-.78 2.05 0 2.83L4 21.41c.39.39.9.59 1.41.59.51 0 1.02-.2 1.41-.59l7.78-7.78 2.81-2.81c.8-.78.8-2.07 0-2.86zM5.41 20L4 18.59l7.72-7.72 1.47 1.35L5.41 20z\"/>\n",
              "  </svg>\n",
              "      </button>\n",
              "      \n",
              "  <style>\n",
              "    .colab-df-container {\n",
              "      display:flex;\n",
              "      flex-wrap:wrap;\n",
              "      gap: 12px;\n",
              "    }\n",
              "\n",
              "    .colab-df-convert {\n",
              "      background-color: #E8F0FE;\n",
              "      border: none;\n",
              "      border-radius: 50%;\n",
              "      cursor: pointer;\n",
              "      display: none;\n",
              "      fill: #1967D2;\n",
              "      height: 32px;\n",
              "      padding: 0 0 0 0;\n",
              "      width: 32px;\n",
              "    }\n",
              "\n",
              "    .colab-df-convert:hover {\n",
              "      background-color: #E2EBFA;\n",
              "      box-shadow: 0px 1px 2px rgba(60, 64, 67, 0.3), 0px 1px 3px 1px rgba(60, 64, 67, 0.15);\n",
              "      fill: #174EA6;\n",
              "    }\n",
              "\n",
              "    [theme=dark] .colab-df-convert {\n",
              "      background-color: #3B4455;\n",
              "      fill: #D2E3FC;\n",
              "    }\n",
              "\n",
              "    [theme=dark] .colab-df-convert:hover {\n",
              "      background-color: #434B5C;\n",
              "      box-shadow: 0px 1px 3px 1px rgba(0, 0, 0, 0.15);\n",
              "      filter: drop-shadow(0px 1px 2px rgba(0, 0, 0, 0.3));\n",
              "      fill: #FFFFFF;\n",
              "    }\n",
              "  </style>\n",
              "\n",
              "      <script>\n",
              "        const buttonEl =\n",
              "          document.querySelector('#df-29f8f72c-f51e-4699-94e8-acfb0b10fa23 button.colab-df-convert');\n",
              "        buttonEl.style.display =\n",
              "          google.colab.kernel.accessAllowed ? 'block' : 'none';\n",
              "\n",
              "        async function convertToInteractive(key) {\n",
              "          const element = document.querySelector('#df-29f8f72c-f51e-4699-94e8-acfb0b10fa23');\n",
              "          const dataTable =\n",
              "            await google.colab.kernel.invokeFunction('convertToInteractive',\n",
              "                                                     [key], {});\n",
              "          if (!dataTable) return;\n",
              "\n",
              "          const docLinkHtml = 'Like what you see? Visit the ' +\n",
              "            '<a target=\"_blank\" href=https://colab.research.google.com/notebooks/data_table.ipynb>data table notebook</a>'\n",
              "            + ' to learn more about interactive tables.';\n",
              "          element.innerHTML = '';\n",
              "          dataTable['output_type'] = 'display_data';\n",
              "          await google.colab.output.renderOutput(dataTable, element);\n",
              "          const docLink = document.createElement('div');\n",
              "          docLink.innerHTML = docLinkHtml;\n",
              "          element.appendChild(docLink);\n",
              "        }\n",
              "      </script>\n",
              "    </div>\n",
              "  </div>\n",
              "  "
            ],
            "text/plain": [
              "                                                text         label\n",
              "0  GET /blog/index.php/2020/04/04/voluptatum-repr...  000 - Normal\n",
              "1                           GET /blog/xmlrpc.php?rsd  000 - Normal\n",
              "2  GET /blog/index.php/2020/04/04/nihil-tenetur-e...  000 - Normal\n",
              "3  GET /blog/index.php/2020/04/04/explicabo-qui-f...  000 - Normal\n",
              "4  GET /blog/index.php/2020/04/04/explicabo-qui-f...  000 - Normal"
            ]
          },
          "execution_count": 5,
          "metadata": {},
          "output_type": "execute_result"
        }
      ],
      "source": [
        "df_train = pd.read_csv('dataset_capec.csv')\n",
        "df_train.head()"
      ]
    },
    {
      "cell_type": "code",
      "execution_count": null,
      "metadata": {
        "colab": {
          "base_uri": "https://localhost:8080/",
          "height": 1000
        },
        "id": "Q3AHD17DN0xb",
        "outputId": "74b7ed06-ba35-4264-b238-4c0b6d8c411d"
      },
      "outputs": [
        {
          "name": "stdout",
          "output_type": "stream",
          "text": [
            "66 - SQL Injection                        248093\n",
            "000 - Normal                              226509\n",
            "194 - Fake the Source of Data              55982\n",
            "34 - HTTP Response Splitting               19134\n",
            "126 - Path Traversal                       17595\n",
            "242 - Code Injection                       13792\n",
            "272 - Protocol Manipulation                 6924\n",
            "310 - Scanning for Vulnerable Software      2382\n",
            "153 - Input Data Manipulation               1387\n",
            "Name: label, dtype: int64\n"
          ]
        },
        {
          "data": {
            "text/plain": [
              "(array([0, 1, 2, 3, 4, 5, 6, 7, 8]),\n",
              " [Text(0, 0, '66 - SQL Injection'),\n",
              "  Text(1, 0, '000 - Normal'),\n",
              "  Text(2, 0, '194 - Fake the Source of Data'),\n",
              "  Text(3, 0, '34 - HTTP Response Splitting'),\n",
              "  Text(4, 0, '126 - Path Traversal'),\n",
              "  Text(5, 0, '242 - Code Injection'),\n",
              "  Text(6, 0, '272 - Protocol Manipulation'),\n",
              "  Text(7, 0, '310 - Scanning for Vulnerable Software'),\n",
              "  Text(8, 0, '153 - Input Data Manipulation')])"
            ]
          },
          "execution_count": 41,
          "metadata": {},
          "output_type": "execute_result"
        },
        {
          "data": {
            "image/png": "[encoded data removed]",
            "text/plain": [
              "<Figure size 640x480 with 1 Axes>"
            ]
          },
          "metadata": {},
          "output_type": "display_data"
        }
      ],
      "source": [
        "# CLASS DISTRIBUTION\n",
        "#if dataset is balanced or not\n",
        "x=df_train['label'].value_counts()\n",
        "print(x)\n",
        "sns.barplot(x = x.index, y = x)\n",
        "plt.xticks(rotation=90)"
      ]
    },
    {
      "cell_type": "markdown",
      "metadata": {
        "id": "_3U21mu7Fk0B"
      },
      "source": [
        "# Create Feature Extraction Module (BOW and TF-IDF)"
      ]
    },
    {
      "cell_type": "code",
      "execution_count": null,
      "metadata": {
        "id": "Aq5EwTspULoC"
      },
      "outputs": [],
      "source": [
        "from sklearn.feature_extraction.text import CountVectorizer, TfidfVectorizer\n",
        "import numpy as np\n",
        "import json\n",
        "\n",
        "\n",
        "class Vectorizer:\n",
        "    def __init__(self, method='BOW', ngram_range=(1, 1), max_features=300, emb_fname='', word_index_fname=''):\n",
        "        self.method = method\n",
        "        if self.method == 'BOW':\n",
        "            self.vectorizer = CountVectorizer(analyzer='word', input='content', ngram_range=ngram_range, max_features=max_features)\n",
        "        elif self.method == 'TFIDF':\n",
        "            self.vectorizer = TfidfVectorizer(analyzer='word', input='content', max_features=max_features)\n",
        "        elif self.method == 'Word2Vec':\n",
        "            self.max_features = max_features\n",
        "            self.emb_fname = emb_fname\n",
        "            self.word_index_fname = word_index_fname\n",
        "        else:\n",
        "            raise ValueError('Feature extraction method does not exist.')\n",
        "\n",
        "    def feature_extraction(self, X_train, X_test):\n",
        "        train_data = self.vectorizer.fit_transform(X_train).toarray()\n",
        "        test_data = self.vectorizer.transform(X_test).toarray()\n",
        "        return train_data, test_data\n",
        "\n",
        "    def get_word_index(self):\n",
        "        word2id = json.load(open(self.word_index_fname, 'r'))\n",
        "        return word2id\n",
        "\n",
        "    def get_embedding_matrix(self):\n",
        "        np.random.seed(0)\n",
        "        word2id = self.get_word_index()\n",
        "        embedding_matrix = np.random.uniform(-0.25, 0.25, [len(word2id) + 1, self.max_features])\n",
        "        with open(self.emb_fname, 'r', encoding='utf-8') as f:\n",
        "            for line in f:\n",
        "                content = line.split(' ')\n",
        "                if content[0] in word2id:\n",
        "                    embedding_matrix[word2id[content[0]]] = np.array(list(map(float, content[1:])))\n",
        "        return embedding_matrix"
      ]
    },
    {
      "cell_type": "code",
      "execution_count": null,
      "metadata": {
        "colab": {
          "base_uri": "https://localhost:8080/",
          "height": 206
        },
        "id": "bGe-PWnU_Lqt",
        "outputId": "1e812fb6-db41-426c-d3c4-671a23c4ea7f"
      },
      "outputs": [
        {
          "data": {
            "text/html": [
              "\n",
              "  <div id=\"df-7ab7f3a4-ba72-4f8c-9c8a-630e59878512\">\n",
              "    <div class=\"colab-df-container\">\n",
              "      <div>\n",
              "<style scoped>\n",
              "    .dataframe tbody tr th:only-of-type {\n",
              "        vertical-align: middle;\n",
              "    }\n",
              "\n",
              "    .dataframe tbody tr th {\n",
              "        vertical-align: top;\n",
              "    }\n",
              "\n",
              "    .dataframe thead th {\n",
              "        text-align: right;\n",
              "    }\n",
              "</style>\n",
              "<table border=\"1\" class=\"dataframe\">\n",
              "  <thead>\n",
              "    <tr style=\"text-align: right;\">\n",
              "      <th></th>\n",
              "      <th>text</th>\n",
              "      <th>label</th>\n",
              "    </tr>\n",
              "  </thead>\n",
              "  <tbody>\n",
              "    <tr>\n",
              "      <th>0</th>\n",
              "      <td>GET  blog index.php 2020 04 04 voluptatum-repr...</td>\n",
              "      <td>000 - Normal</td>\n",
              "    </tr>\n",
              "    <tr>\n",
              "      <th>1</th>\n",
              "      <td>GET  blog xmlrpc.php?rsd</td>\n",
              "      <td>000 - Normal</td>\n",
              "    </tr>\n",
              "    <tr>\n",
              "      <th>2</th>\n",
              "      <td>GET  blog index.php 2020 04 04 nihil-tenetur-e...</td>\n",
              "      <td>000 - Normal</td>\n",
              "    </tr>\n",
              "    <tr>\n",
              "      <th>3</th>\n",
              "      <td>GET  blog index.php 2020 04 04 explicabo-qui-f...</td>\n",
              "      <td>000 - Normal</td>\n",
              "    </tr>\n",
              "    <tr>\n",
              "      <th>4</th>\n",
              "      <td>GET  blog index.php 2020 04 04 explicabo-qui-f...</td>\n",
              "      <td>000 - Normal</td>\n",
              "    </tr>\n",
              "  </tbody>\n",
              "</table>\n",
              "</div>\n",
              "      <button class=\"colab-df-convert\" onclick=\"convertToInteractive('df-7ab7f3a4-ba72-4f8c-9c8a-630e59878512')\"\n",
              "              title=\"Convert this dataframe to an interactive table.\"\n",
              "              style=\"display:none;\">\n",
              "        \n",
              "  <svg xmlns=\"http://www.w3.org/2000/svg\" height=\"24px\"viewBox=\"0 0 24 24\"\n",
              "       width=\"24px\">\n",
              "    <path d=\"M0 0h24v24H0V0z\" fill=\"none\"/>\n",
              "    <path d=\"M18.56 5.44l.94 2.06.94-2.06 2.06-.94-2.06-.94-.94-2.06-.94 2.06-2.06.94zm-11 1L8.5 8.5l.94-2.06 2.06-.94-2.06-.94L8.5 2.5l-.94 2.06-2.06.94zm10 10l.94 2.06.94-2.06 2.06-.94-2.06-.94-.94-2.06-.94 2.06-2.06.94z\"/><path d=\"M17.41 7.96l-1.37-1.37c-.4-.4-.92-.59-1.43-.59-.52 0-1.04.2-1.43.59L10.3 9.45l-7.72 7.72c-.78.78-.78 2.05 0 2.83L4 21.41c.39.39.9.59 1.41.59.51 0 1.02-.2 1.41-.59l7.78-7.78 2.81-2.81c.8-.78.8-2.07 0-2.86zM5.41 20L4 18.59l7.72-7.72 1.47 1.35L5.41 20z\"/>\n",
              "  </svg>\n",
              "      </button>\n",
              "      \n",
              "  <style>\n",
              "    .colab-df-container {\n",
              "      display:flex;\n",
              "      flex-wrap:wrap;\n",
              "      gap: 12px;\n",
              "    }\n",
              "\n",
              "    .colab-df-convert {\n",
              "      background-color: #E8F0FE;\n",
              "      border: none;\n",
              "      border-radius: 50%;\n",
              "      cursor: pointer;\n",
              "      display: none;\n",
              "      fill: #1967D2;\n",
              "      height: 32px;\n",
              "      padding: 0 0 0 0;\n",
              "      width: 32px;\n",
              "    }\n",
              "\n",
              "    .colab-df-convert:hover {\n",
              "      background-color: #E2EBFA;\n",
              "      box-shadow: 0px 1px 2px rgba(60, 64, 67, 0.3), 0px 1px 3px 1px rgba(60, 64, 67, 0.15);\n",
              "      fill: #174EA6;\n",
              "    }\n",
              "\n",
              "    [theme=dark] .colab-df-convert {\n",
              "      background-color: #3B4455;\n",
              "      fill: #D2E3FC;\n",
              "    }\n",
              "\n",
              "    [theme=dark] .colab-df-convert:hover {\n",
              "      background-color: #434B5C;\n",
              "      box-shadow: 0px 1px 3px 1px rgba(0, 0, 0, 0.15);\n",
              "      filter: drop-shadow(0px 1px 2px rgba(0, 0, 0, 0.3));\n",
              "      fill: #FFFFFF;\n",
              "    }\n",
              "  </style>\n",
              "\n",
              "      <script>\n",
              "        const buttonEl =\n",
              "          document.querySelector('#df-7ab7f3a4-ba72-4f8c-9c8a-630e59878512 button.colab-df-convert');\n",
              "        buttonEl.style.display =\n",
              "          google.colab.kernel.accessAllowed ? 'block' : 'none';\n",
              "\n",
              "        async function convertToInteractive(key) {\n",
              "          const element = document.querySelector('#df-7ab7f3a4-ba72-4f8c-9c8a-630e59878512');\n",
              "          const dataTable =\n",
              "            await google.colab.kernel.invokeFunction('convertToInteractive',\n",
              "                                                     [key], {});\n",
              "          if (!dataTable) return;\n",
              "\n",
              "          const docLinkHtml = 'Like what you see? Visit the ' +\n",
              "            '<a target=\"_blank\" href=https://colab.research.google.com/notebooks/data_table.ipynb>data table notebook</a>'\n",
              "            + ' to learn more about interactive tables.';\n",
              "          element.innerHTML = '';\n",
              "          dataTable['output_type'] = 'display_data';\n",
              "          await google.colab.output.renderOutput(dataTable, element);\n",
              "          const docLink = document.createElement('div');\n",
              "          docLink.innerHTML = docLinkHtml;\n",
              "          element.appendChild(docLink);\n",
              "        }\n",
              "      </script>\n",
              "    </div>\n",
              "  </div>\n",
              "  "
            ],
            "text/plain": [
              "                                                text         label\n",
              "0  GET  blog index.php 2020 04 04 voluptatum-repr...  000 - Normal\n",
              "1                           GET  blog xmlrpc.php?rsd  000 - Normal\n",
              "2  GET  blog index.php 2020 04 04 nihil-tenetur-e...  000 - Normal\n",
              "3  GET  blog index.php 2020 04 04 explicabo-qui-f...  000 - Normal\n",
              "4  GET  blog index.php 2020 04 04 explicabo-qui-f...  000 - Normal"
            ]
          },
          "execution_count": 6,
          "metadata": {},
          "output_type": "execute_result"
        }
      ],
      "source": [
        "# Optional (not effect very much)\n",
        "df_train['text'] = df_train['text'].str.replace('/',' ')\n",
        "df_train.head()"
      ]
    },
    {
      "cell_type": "markdown",
      "metadata": {
        "id": "54GCGlu5F0N9"
      },
      "source": [
        "# TF-IDF Feature Extraction"
      ]
    },
    {
      "cell_type": "markdown",
      "metadata": {
        "id": "MSrinD3LGDPB"
      },
      "source": [
        "## Naive Bayes Classifier"
      ]
    },
    {
      "cell_type": "code",
      "execution_count": null,
      "metadata": {
        "colab": {
          "base_uri": "https://localhost:8080/"
        },
        "id": "ZMOBKdJNULtX",
        "outputId": "52c5644d-3a4d-4d13-e742-a4af012c9f91"
      },
      "outputs": [
        {
          "name": "stdout",
          "output_type": "stream",
          "text": [
            "0.8681818181818182\n"
          ]
        }
      ],
      "source": [
        "from sklearn.naive_bayes import MultinomialNB\n",
        "X_train, X_val, y_train, y_val = train_test_split(df_train[\"text\"],\n",
        "                                                  df_train[\"label\"],\n",
        "                                                  test_size=0.2,\n",
        "                                                  shuffle=True)\n",
        "vectorizer = Vectorizer('TFIDF')\n",
        "train_features, test_features = vectorizer.feature_extraction(X_train, X_val)\n",
        "mnb = MultinomialNB()\n",
        "mnb.fit(train_features, y_train)\n",
        "print(mnb.score(test_features, y_val))\n",
        "\n",
        "\n"
      ]
    },
    {
      "cell_type": "code",
      "execution_count": null,
      "metadata": {
        "colab": {
          "base_uri": "https://localhost:8080/"
        },
        "id": "vlawH7IJ1zK4",
        "outputId": "abf364b1-432b-4b80-ea22-2cea99cbecb7"
      },
      "outputs": [
        {
          "name": "stderr",
          "output_type": "stream",
          "text": [
            "/usr/local/lib/python3.9/dist-packages/sklearn/metrics/_classification.py:1344: UndefinedMetricWarning: Precision and F-score are ill-defined and being set to 0.0 in labels with no predicted samples. Use `zero_division` parameter to control this behavior.\n",
            "  _warn_prf(average, modifier, msg_start, len(result))\n",
            "/usr/local/lib/python3.9/dist-packages/sklearn/metrics/_classification.py:1344: UndefinedMetricWarning: Precision and F-score are ill-defined and being set to 0.0 in labels with no predicted samples. Use `zero_division` parameter to control this behavior.\n",
            "  _warn_prf(average, modifier, msg_start, len(result))\n",
            "/usr/local/lib/python3.9/dist-packages/sklearn/metrics/_classification.py:1344: UndefinedMetricWarning: Precision and F-score are ill-defined and being set to 0.0 in labels with no predicted samples. Use `zero_division` parameter to control this behavior.\n",
            "  _warn_prf(average, modifier, msg_start, len(result))\n"
          ]
        },
        {
          "name": "stdout",
          "output_type": "stream",
          "text": [
            "                                        precision    recall  f1-score   support\n",
            "\n",
            "                          000 - Normal       0.81      0.93      0.87     45261\n",
            "                  126 - Path Traversal       1.00      0.80      0.89      3554\n",
            "         153 - Input Data Manipulation       0.10      1.00      0.17       265\n",
            "         194 - Fake the Source of Data       0.97      0.91      0.94     11239\n",
            "                  242 - Code Injection       0.98      0.91      0.94      2829\n",
            "           272 - Protocol Manipulation       0.00      0.00      0.00      1394\n",
            "310 - Scanning for Vulnerable Software       0.92      0.28      0.43       468\n",
            "          34 - HTTP Response Splitting       0.95      0.92      0.93      3890\n",
            "                    66 - SQL Injection       0.94      0.83      0.88     49460\n",
            "\n",
            "                              accuracy                           0.87    118360\n",
            "                             macro avg       0.74      0.73      0.67    118360\n",
            "                          weighted avg       0.88      0.87      0.87    118360\n",
            "\n",
            "Confusion Matrix: \n",
            " [[42043    13   517    48     2     0     9   202  2427]\n",
            " [  506  2860    45   109     0     0     0     0    34]\n",
            " [    0     0   265     0     0     0     0     0     0]\n",
            " [  584     0   425 10195     0     0     0     0    35]\n",
            " [  187     0    21     0  2582     0     0     0    39]\n",
            " [ 1071     0    62   111     1     0     2     1   146]\n",
            " [  333     0     0     2     0     0   130     0     3]\n",
            " [  182     0    96     0     0     0     0  3581    31]\n",
            " [ 6946     0  1345    11    56     0     0     0 41102]]\n"
          ]
        }
      ],
      "source": [
        "y_predict = mnb.predict(test_features)\n",
        "print(classification_report(y_val,y_predict))\n",
        "print('Confusion Matrix: \\n',confusion_matrix(y_val, y_predict))"
      ]
    },
    {
      "cell_type": "markdown",
      "metadata": {
        "id": "hF2mmpGYGIri"
      },
      "source": [
        "## Random Forest Classifier"
      ]
    },
    {
      "cell_type": "code",
      "execution_count": null,
      "metadata": {
        "colab": {
          "base_uri": "https://localhost:8080/"
        },
        "id": "-1gAEMFe2ksd",
        "outputId": "3379d907-2b0a-4210-eb69-8e9a5445c5c9"
      },
      "outputs": [
        {
          "name": "stdout",
          "output_type": "stream",
          "text": [
            "0.9600540723217303\n"
          ]
        }
      ],
      "source": [
        "from sklearn.ensemble import RandomForestClassifier\n",
        "\n",
        "rf = RandomForestClassifier(n_estimators=10, criterion='gini')\n",
        "rf.fit(train_features, y_train)\n",
        "print(rf.score(test_features, y_val))"
      ]
    },
    {
      "cell_type": "code",
      "execution_count": null,
      "metadata": {
        "colab": {
          "base_uri": "https://localhost:8080/"
        },
        "id": "D0tKg33t2kus",
        "outputId": "25300dff-1b97-47ca-a26c-e9ead3f50e29"
      },
      "outputs": [
        {
          "name": "stdout",
          "output_type": "stream",
          "text": [
            "                                        precision    recall  f1-score   support\n",
            "\n",
            "                          000 - Normal       0.92      0.99      0.96     45261\n",
            "                  126 - Path Traversal       1.00      0.93      0.96      3554\n",
            "         153 - Input Data Manipulation       0.32      0.08      0.13       265\n",
            "         194 - Fake the Source of Data       1.00      0.93      0.96     11239\n",
            "                  242 - Code Injection       1.00      0.99      0.99      2829\n",
            "           272 - Protocol Manipulation       0.66      0.14      0.24      1394\n",
            "310 - Scanning for Vulnerable Software       0.89      0.99      0.94       468\n",
            "          34 - HTTP Response Splitting       1.00      1.00      1.00      3890\n",
            "                    66 - SQL Injection       0.99      0.96      0.97     49460\n",
            "\n",
            "                              accuracy                           0.96    118360\n",
            "                             macro avg       0.86      0.78      0.79    118360\n",
            "                          weighted avg       0.96      0.96      0.96    118360\n",
            "\n",
            "Confusion Matrix: \n",
            " [[44933     4     0     1     0    22    29     0   272]\n",
            " [  200  3292     1     0     0    18     1     0    42]\n",
            " [   83     0    22     0     0     0     0     0   160]\n",
            " [  625     0    12 10458     0    19     0     0   125]\n",
            " [    3     0     0     0  2804     2     0     0    20]\n",
            " [ 1041     0     3    24     2   202    23     0    99]\n",
            " [    3     2     0     0     0     0   463     0     0]\n",
            " [    1     0     0     0     0     0     0  3889     0]\n",
            " [ 1808     0    30     0     6    43     4     0 47569]]\n"
          ]
        }
      ],
      "source": [
        "y_predict = rf.predict(test_features)\n",
        "print(classification_report(y_val,y_predict))\n",
        "print('Confusion Matrix: \\n',confusion_matrix(y_val, y_predict))"
      ]
    },
    {
      "cell_type": "markdown",
      "metadata": {
        "id": "OKnfOsljGL9q"
      },
      "source": [
        "## Decision Tree Classifier"
      ]
    },
    {
      "cell_type": "code",
      "execution_count": null,
      "metadata": {
        "colab": {
          "base_uri": "https://localhost:8080/"
        },
        "id": "jtK4JMDFD0EO",
        "outputId": "2150f9eb-7e82-4b1d-fb84-066d7cd8b0d7"
      },
      "outputs": [
        {
          "name": "stdout",
          "output_type": "stream",
          "text": [
            "0.9602230483271376\n"
          ]
        }
      ],
      "source": [
        "from sklearn.tree import DecisionTreeClassifier\n",
        "\n",
        "dt = DecisionTreeClassifier(criterion='gini')\n",
        "dt.fit(train_features, y_train)\n",
        "print(dt.score(test_features, y_val))"
      ]
    },
    {
      "cell_type": "code",
      "execution_count": null,
      "metadata": {
        "colab": {
          "base_uri": "https://localhost:8080/"
        },
        "id": "lNu1tXfrEHuZ",
        "outputId": "820ece35-bad7-4884-97ce-485d51c6da70"
      },
      "outputs": [
        {
          "name": "stdout",
          "output_type": "stream",
          "text": [
            "                                        precision    recall  f1-score   support\n",
            "\n",
            "                          000 - Normal       0.92      0.99      0.96     45261\n",
            "                  126 - Path Traversal       1.00      0.93      0.96      3554\n",
            "         153 - Input Data Manipulation       0.50      0.01      0.02       265\n",
            "         194 - Fake the Source of Data       1.00      0.93      0.96     11239\n",
            "                  242 - Code Injection       1.00      0.99      1.00      2829\n",
            "           272 - Protocol Manipulation       0.64      0.15      0.25      1394\n",
            "310 - Scanning for Vulnerable Software       0.89      0.98      0.93       468\n",
            "          34 - HTTP Response Splitting       1.00      1.00      1.00      3890\n",
            "                    66 - SQL Injection       0.99      0.96      0.97     49460\n",
            "\n",
            "                              accuracy                           0.96    118360\n",
            "                             macro avg       0.88      0.77      0.78    118360\n",
            "                          weighted avg       0.96      0.96      0.96    118360\n",
            "\n",
            "Confusion Matrix: \n",
            " [[44965     1     0     1     3    23    29     1   238]\n",
            " [  196  3301     0     0     0    20     1     0    36]\n",
            " [   83     0     3     0     0     0     0     0   179]\n",
            " [  624     0     1 10457     0    21     0     0   136]\n",
            " [    5     0     0     0  2809     0     0     0    15]\n",
            " [ 1040     0     2    21     1   213    23     0    94]\n",
            " [    5     2     0     0     0     2   459     0     0]\n",
            " [    0     0     0     0     0     0     0  3890     0]\n",
            " [ 1847     0     0     0     2    52     4     0 47555]]\n"
          ]
        }
      ],
      "source": [
        "y_predict = dt.predict(test_features)\n",
        "print(classification_report(y_val,y_predict))\n",
        "print('Confusion Matrix: \\n',confusion_matrix(y_val, y_predict))"
      ]
    },
    {
      "cell_type": "markdown",
      "metadata": {
        "id": "edp_bhD3GOqe"
      },
      "source": [
        "# AdaBoost Classifier"
      ]
    },
    {
      "cell_type": "code",
      "execution_count": null,
      "metadata": {
        "colab": {
          "base_uri": "https://localhost:8080/"
        },
        "id": "rYaVHjG82k8c",
        "outputId": "bcc365f2-205c-4af2-8495-3a68379851d6"
      },
      "outputs": [
        {
          "name": "stdout",
          "output_type": "stream",
          "text": [
            "0.5623436971949983\n"
          ]
        }
      ],
      "source": [
        "from sklearn.ensemble import AdaBoostClassifier\n",
        "\n",
        "abc = AdaBoostClassifier(n_estimators=10)\n",
        "abc.fit(train_features, y_train)\n",
        "print(abc.score(test_features, y_val))"
      ]
    },
    {
      "cell_type": "code",
      "execution_count": null,
      "metadata": {
        "colab": {
          "base_uri": "https://localhost:8080/"
        },
        "id": "Q8hwR-IR5ZDA",
        "outputId": "2c0b1da4-05d0-4a66-eeb9-bee29bc95908"
      },
      "outputs": [
        {
          "name": "stderr",
          "output_type": "stream",
          "text": [
            "/usr/local/lib/python3.9/dist-packages/sklearn/metrics/_classification.py:1344: UndefinedMetricWarning: Precision and F-score are ill-defined and being set to 0.0 in labels with no predicted samples. Use `zero_division` parameter to control this behavior.\n",
            "  _warn_prf(average, modifier, msg_start, len(result))\n",
            "/usr/local/lib/python3.9/dist-packages/sklearn/metrics/_classification.py:1344: UndefinedMetricWarning: Precision and F-score are ill-defined and being set to 0.0 in labels with no predicted samples. Use `zero_division` parameter to control this behavior.\n",
            "  _warn_prf(average, modifier, msg_start, len(result))\n",
            "/usr/local/lib/python3.9/dist-packages/sklearn/metrics/_classification.py:1344: UndefinedMetricWarning: Precision and F-score are ill-defined and being set to 0.0 in labels with no predicted samples. Use `zero_division` parameter to control this behavior.\n",
            "  _warn_prf(average, modifier, msg_start, len(result))\n"
          ]
        },
        {
          "name": "stdout",
          "output_type": "stream",
          "text": [
            "                                        precision    recall  f1-score   support\n",
            "\n",
            "                          000 - Normal       0.00      0.00      0.00     45261\n",
            "                  126 - Path Traversal       0.00      0.00      0.00      3554\n",
            "         153 - Input Data Manipulation       0.00      0.00      0.00       265\n",
            "         194 - Fake the Source of Data       0.99      0.93      0.96     11239\n",
            "                  242 - Code Injection       1.00      0.97      0.98      2829\n",
            "           272 - Protocol Manipulation       0.00      0.00      0.00      1394\n",
            "310 - Scanning for Vulnerable Software       0.00      0.00      0.00       468\n",
            "          34 - HTTP Response Splitting       1.00      1.00      1.00      3890\n",
            "                    66 - SQL Injection       0.49      1.00      0.66     49460\n",
            "\n",
            "                              accuracy                           0.56    118360\n",
            "                             macro avg       0.39      0.43      0.40    118360\n",
            "                          weighted avg       0.36      0.56      0.42    118360\n",
            "\n",
            "Confusion Matrix: \n",
            " [[    0     0     0     0     5     0     0     0 45256]\n",
            " [    0     0     0     0     0     0     0     0  3554]\n",
            " [    0     0     0     0     0     0     0     0   265]\n",
            " [    0     0     0 10463     0     0     0     0   776]\n",
            " [    0     0     0     0  2746     0     0     0    83]\n",
            " [    0     0     0   109     1     0     0     0  1284]\n",
            " [    0     0     0     2     0     0     0     0   466]\n",
            " [    0     0     0     0     0     0     0  3890     0]\n",
            " [    0     0     0     0     0     0     0     0 49460]]\n"
          ]
        }
      ],
      "source": [
        "y_predict = abc.predict(test_features)\n",
        "print(classification_report(y_val,y_predict))\n",
        "print('Confusion Matrix: \\n',confusion_matrix(y_val, y_predict))"
      ]
    },
    {
      "cell_type": "markdown",
      "metadata": {
        "id": "WFyh5wxdGRZD"
      },
      "source": [
        "## Logistic Regression Classifier"
      ]
    },
    {
      "cell_type": "code",
      "execution_count": null,
      "metadata": {
        "colab": {
          "base_uri": "https://localhost:8080/"
        },
        "id": "T3Nip0265ZFo",
        "outputId": "c6dab4be-704c-4d57-fc61-7b51dee596d4"
      },
      "outputs": [
        {
          "name": "stderr",
          "output_type": "stream",
          "text": [
            "/usr/local/lib/python3.9/dist-packages/sklearn/linear_model/_logistic.py:458: ConvergenceWarning: lbfgs failed to converge (status=1):\n",
            "STOP: TOTAL NO. of ITERATIONS REACHED LIMIT.\n",
            "\n",
            "Increase the number of iterations (max_iter) or scale the data as shown in:\n",
            "    https://scikit-learn.org/stable/modules/preprocessing.html\n",
            "Please also refer to the documentation for alternative solver options:\n",
            "    https://scikit-learn.org/stable/modules/linear_model.html#logistic-regression\n",
            "  n_iter_i = _check_optimize_result(\n"
          ]
        },
        {
          "name": "stdout",
          "output_type": "stream",
          "text": [
            "0.9495860087867523\n"
          ]
        }
      ],
      "source": [
        "from sklearn.linear_model import LogisticRegression\n",
        "\n",
        "lr = LogisticRegression()\n",
        "lr.fit(train_features, y_train)\n",
        "print(lr.score(test_features, y_val))\n"
      ]
    },
    {
      "cell_type": "code",
      "execution_count": null,
      "metadata": {
        "colab": {
          "base_uri": "https://localhost:8080/"
        },
        "id": "uM8uWCJx5ZIm",
        "outputId": "f2ee76fc-45eb-4c1f-cdf5-ceae6f7b6460"
      },
      "outputs": [
        {
          "name": "stdout",
          "output_type": "stream",
          "text": [
            "                                        precision    recall  f1-score   support\n",
            "\n",
            "                          000 - Normal       0.91      0.98      0.94     45261\n",
            "                  126 - Path Traversal       0.98      0.91      0.94      3554\n",
            "         153 - Input Data Manipulation       0.29      0.01      0.01       265\n",
            "         194 - Fake the Source of Data       0.99      0.93      0.96     11239\n",
            "                  242 - Code Injection       1.00      0.97      0.99      2829\n",
            "           272 - Protocol Manipulation       0.00      0.00      0.00      1394\n",
            "310 - Scanning for Vulnerable Software       0.86      0.94      0.90       468\n",
            "          34 - HTTP Response Splitting       1.00      1.00      1.00      3890\n",
            "                    66 - SQL Injection       0.98      0.95      0.96     49460\n",
            "\n",
            "                              accuracy                           0.95    118360\n",
            "                             macro avg       0.78      0.74      0.75    118360\n",
            "                          weighted avg       0.94      0.95      0.94    118360\n",
            "\n",
            "Confusion Matrix: \n",
            " [[44478    68     0     2     3     0    42     0   668]\n",
            " [  282  3235     2     0     0     0     1     0    34]\n",
            " [   83     0     2     0     0     0     0     0   180]\n",
            " [  645     0     1 10462     0     1     0     0   130]\n",
            " [    8     0     0     0  2755     0     0     0    66]\n",
            " [ 1152     0     1   110     1     0    24     0   106]\n",
            " [   23     2     0     2     0     0   439     0     2]\n",
            " [    0     0     0     0     0     0     0  3890     0]\n",
            " [ 2322     1     1     0     0     0     4     0 47132]]\n"
          ]
        }
      ],
      "source": [
        "y_predict = lr.predict(test_features)\n",
        "print(classification_report(y_val,y_predict))\n",
        "print('Confusion Matrix: \\n',confusion_matrix(y_val, y_predict))"
      ]
    },
    {
      "cell_type": "markdown",
      "metadata": {
        "id": "KLw6SpOxGVOS"
      },
      "source": [
        "# BOW Feature Extraction"
      ]
    },
    {
      "cell_type": "markdown",
      "metadata": {
        "id": "Kq7XC6rPGgba"
      },
      "source": [
        "## Naive Bayes Classifier"
      ]
    },
    {
      "cell_type": "code",
      "execution_count": null,
      "metadata": {
        "colab": {
          "base_uri": "https://localhost:8080/"
        },
        "id": "VJbqm6iUE2bj",
        "outputId": "07dcacfa-2d75-4766-c3f5-e2e48b75bfd1"
      },
      "outputs": [
        {
          "name": "stdout",
          "output_type": "stream",
          "text": [
            "0.8295370057451842\n"
          ]
        }
      ],
      "source": [
        "vectorizer = Vectorizer('BOW')\n",
        "train_features, test_features = vectorizer.feature_extraction(X_train, X_val)\n",
        "mnb = MultinomialNB()\n",
        "mnb.fit(train_features, y_train)\n",
        "print(mnb.score(test_features, y_val))"
      ]
    },
    {
      "cell_type": "code",
      "execution_count": null,
      "metadata": {
        "colab": {
          "base_uri": "https://localhost:8080/"
        },
        "id": "EurujopUE8FK",
        "outputId": "0289132d-6ea0-4ca3-ab9b-bb96ba224c3c"
      },
      "outputs": [
        {
          "name": "stdout",
          "output_type": "stream",
          "text": [
            "                                        precision    recall  f1-score   support\n",
            "\n",
            "                          000 - Normal       0.77      0.92      0.84     45261\n",
            "                  126 - Path Traversal       0.99      0.90      0.94      3554\n",
            "         153 - Input Data Manipulation       0.08      1.00      0.15       265\n",
            "         194 - Fake the Source of Data       0.93      0.90      0.92     11239\n",
            "                  242 - Code Injection       0.97      0.88      0.92      2829\n",
            "           272 - Protocol Manipulation       0.04      0.06      0.05      1394\n",
            "310 - Scanning for Vulnerable Software       0.79      0.37      0.50       468\n",
            "          34 - HTTP Response Splitting       0.93      0.97      0.95      3890\n",
            "                    66 - SQL Injection       0.96      0.74      0.84     49460\n",
            "\n",
            "                              accuracy                           0.83    118360\n",
            "                             macro avg       0.72      0.75      0.68    118360\n",
            "                          weighted avg       0.87      0.83      0.84    118360\n",
            "\n",
            "Confusion Matrix: \n",
            " [[41604    40   670   494     2   912    30   248  1261]\n",
            " [  233  3194    80     5     0    25     0     0    17]\n",
            " [    0     0   265     0     0     0     0     0     0]\n",
            " [  502     0   507 10137     0    83     1     0     9]\n",
            " [  125     0    33     0  2478   154     0     0    39]\n",
            " [ 1037     0    68   120     1    83     3     1    81]\n",
            " [  292     0     0     2     0     0   172     0     2]\n",
            " [   18     0    93     3     0     4     0  3754    18]\n",
            " [10219     0  1548   156    62   947    11    20 36497]]\n"
          ]
        }
      ],
      "source": [
        "y_predict = mnb.predict(test_features)\n",
        "print(classification_report(y_val,y_predict))\n",
        "print('Confusion Matrix: \\n',confusion_matrix(y_val, y_predict))"
      ]
    },
    {
      "cell_type": "markdown",
      "metadata": {
        "id": "UkfTtKPYGlBm"
      },
      "source": [
        "## Random Forest Classifier"
      ]
    },
    {
      "cell_type": "code",
      "execution_count": null,
      "metadata": {
        "colab": {
          "base_uri": "https://localhost:8080/"
        },
        "id": "U-A_-YSfFBwS",
        "outputId": "ddfe6ecb-93e8-4851-c8c3-c2b642124364"
      },
      "outputs": [
        {
          "name": "stdout",
          "output_type": "stream",
          "text": [
            "0.9603075363298411\n"
          ]
        }
      ],
      "source": [
        "from sklearn.ensemble import RandomForestClassifier\n",
        "\n",
        "rf = RandomForestClassifier(n_estimators=10, criterion='gini')\n",
        "rf.fit(train_features, y_train)\n",
        "print(rf.score(test_features, y_val))"
      ]
    },
    {
      "cell_type": "code",
      "execution_count": null,
      "metadata": {
        "colab": {
          "base_uri": "https://localhost:8080/"
        },
        "id": "_MEkkBgxFByz",
        "outputId": "a7a14a0d-16c2-4558-e9e7-f5bc37a90c96"
      },
      "outputs": [
        {
          "name": "stdout",
          "output_type": "stream",
          "text": [
            "                                        precision    recall  f1-score   support\n",
            "\n",
            "                          000 - Normal       0.92      0.99      0.96     45261\n",
            "                  126 - Path Traversal       1.00      0.93      0.96      3554\n",
            "         153 - Input Data Manipulation       0.60      0.01      0.02       265\n",
            "         194 - Fake the Source of Data       1.00      0.93      0.96     11239\n",
            "                  242 - Code Injection       1.00      0.99      1.00      2829\n",
            "           272 - Protocol Manipulation       0.66      0.15      0.25      1394\n",
            "310 - Scanning for Vulnerable Software       0.89      0.99      0.94       468\n",
            "          34 - HTTP Response Splitting       1.00      1.00      1.00      3890\n",
            "                    66 - SQL Injection       0.98      0.96      0.97     49460\n",
            "\n",
            "                              accuracy                           0.96    118360\n",
            "                             macro avg       0.89      0.77      0.78    118360\n",
            "                          weighted avg       0.96      0.96      0.96    118360\n",
            "\n",
            "Confusion Matrix: \n",
            " [[44941     2     0     1     0    22    30     0   265]\n",
            " [  198  3298     0     0     0    20     1     0    37]\n",
            " [   83     0     3     0     0     0     0     0   179]\n",
            " [  624     0     1 10454     0    22     0     0   138]\n",
            " [    2     0     0     0  2812     1     0     0    14]\n",
            " [ 1036     4     1    20     1   215    23     0    94]\n",
            " [    2     2     0     0     0     0   464     0     0]\n",
            " [    0     0     0     0     0     0     0  3890     0]\n",
            " [ 1820     0     0     0     6    44     4     1 47585]]\n"
          ]
        }
      ],
      "source": [
        "y_predict = rf.predict(test_features)\n",
        "print(classification_report(y_val,y_predict))\n",
        "print('Confusion Matrix: \\n',confusion_matrix(y_val, y_predict))"
      ]
    },
    {
      "cell_type": "markdown",
      "metadata": {
        "id": "H_6dtPnFGorS"
      },
      "source": [
        "## Decision Tree Classifier"
      ]
    },
    {
      "cell_type": "code",
      "execution_count": null,
      "metadata": {
        "colab": {
          "base_uri": "https://localhost:8080/"
        },
        "id": "2xKbOulCFB00",
        "outputId": "48a01176-47cd-417d-f8c6-cb1a204a26d9"
      },
      "outputs": [
        {
          "name": "stdout",
          "output_type": "stream",
          "text": [
            "0.960442717134167\n"
          ]
        }
      ],
      "source": [
        "from sklearn.tree import DecisionTreeClassifier\n",
        "\n",
        "dt = DecisionTreeClassifier(criterion='gini')\n",
        "dt.fit(train_features, y_train)\n",
        "print(dt.score(test_features, y_val))"
      ]
    },
    {
      "cell_type": "code",
      "execution_count": null,
      "metadata": {
        "colab": {
          "base_uri": "https://localhost:8080/"
        },
        "id": "Hjgavip6FB3g",
        "outputId": "30eef8e5-f908-4c41-f8f4-3fd13cbace42"
      },
      "outputs": [
        {
          "name": "stdout",
          "output_type": "stream",
          "text": [
            "                                        precision    recall  f1-score   support\n",
            "\n",
            "                          000 - Normal       0.92      0.99      0.96     45261\n",
            "                  126 - Path Traversal       1.00      0.93      0.96      3554\n",
            "         153 - Input Data Manipulation       0.60      0.01      0.02       265\n",
            "         194 - Fake the Source of Data       1.00      0.93      0.96     11239\n",
            "                  242 - Code Injection       1.00      0.99      1.00      2829\n",
            "           272 - Protocol Manipulation       0.64      0.16      0.25      1394\n",
            "310 - Scanning for Vulnerable Software       0.89      0.99      0.94       468\n",
            "          34 - HTTP Response Splitting       1.00      1.00      1.00      3890\n",
            "                    66 - SQL Injection       0.99      0.96      0.97     49460\n",
            "\n",
            "                              accuracy                           0.96    118360\n",
            "                             macro avg       0.89      0.77      0.78    118360\n",
            "                          weighted avg       0.96      0.96      0.96    118360\n",
            "\n",
            "Confusion Matrix: \n",
            " [[44982     1     0     1     0    24    29     0   224]\n",
            " [  195  3303     0     0     0    19     1     0    36]\n",
            " [   83     0     3     0     0     0     0     0   179]\n",
            " [  624     0     1 10452     0    26     0     0   136]\n",
            " [    2     0     0     0  2812     1     0     0    14]\n",
            " [ 1038     0     1    18     1   217    23     0    96]\n",
            " [    2     2     0     0     0     0   464     0     0]\n",
            " [    0     0     0     0     0     0     0  3890     0]\n",
            " [ 1842     0     0     0     8    51     4     0 47555]]\n"
          ]
        }
      ],
      "source": [
        "y_predict = dt.predict(test_features)\n",
        "print(classification_report(y_val,y_predict))\n",
        "print('Confusion Matrix: \\n',confusion_matrix(y_val, y_predict))"
      ]
    },
    {
      "cell_type": "markdown",
      "metadata": {
        "id": "DuZsNl5sGrIE"
      },
      "source": [
        "## AdaBoost Classifier"
      ]
    },
    {
      "cell_type": "code",
      "execution_count": null,
      "metadata": {
        "colab": {
          "base_uri": "https://localhost:8080/"
        },
        "id": "xiB_KiKMFB6G",
        "outputId": "3ad677e6-49fd-49b2-ba2c-6c9912b58b95"
      },
      "outputs": [
        {
          "name": "stdout",
          "output_type": "stream",
          "text": [
            "0.5623436971949983\n"
          ]
        }
      ],
      "source": [
        "from sklearn.ensemble import AdaBoostClassifier\n",
        "\n",
        "abc = AdaBoostClassifier(n_estimators=10)\n",
        "abc.fit(train_features, y_train)\n",
        "print(abc.score(test_features, y_val))"
      ]
    },
    {
      "cell_type": "code",
      "execution_count": null,
      "metadata": {
        "colab": {
          "base_uri": "https://localhost:8080/"
        },
        "id": "WP2LTC1EE8PV",
        "outputId": "aa3557af-51af-49f5-d296-9bc793ae93ac"
      },
      "outputs": [
        {
          "name": "stderr",
          "output_type": "stream",
          "text": [
            "/usr/local/lib/python3.9/dist-packages/sklearn/metrics/_classification.py:1344: UndefinedMetricWarning: Precision and F-score are ill-defined and being set to 0.0 in labels with no predicted samples. Use `zero_division` parameter to control this behavior.\n",
            "  _warn_prf(average, modifier, msg_start, len(result))\n",
            "/usr/local/lib/python3.9/dist-packages/sklearn/metrics/_classification.py:1344: UndefinedMetricWarning: Precision and F-score are ill-defined and being set to 0.0 in labels with no predicted samples. Use `zero_division` parameter to control this behavior.\n",
            "  _warn_prf(average, modifier, msg_start, len(result))\n",
            "/usr/local/lib/python3.9/dist-packages/sklearn/metrics/_classification.py:1344: UndefinedMetricWarning: Precision and F-score are ill-defined and being set to 0.0 in labels with no predicted samples. Use `zero_division` parameter to control this behavior.\n",
            "  _warn_prf(average, modifier, msg_start, len(result))\n"
          ]
        },
        {
          "name": "stdout",
          "output_type": "stream",
          "text": [
            "                                        precision    recall  f1-score   support\n",
            "\n",
            "                          000 - Normal       0.00      0.00      0.00     45261\n",
            "                  126 - Path Traversal       0.00      0.00      0.00      3554\n",
            "         153 - Input Data Manipulation       0.00      0.00      0.00       265\n",
            "         194 - Fake the Source of Data       0.99      0.93      0.96     11239\n",
            "                  242 - Code Injection       1.00      0.97      0.98      2829\n",
            "           272 - Protocol Manipulation       0.00      0.00      0.00      1394\n",
            "310 - Scanning for Vulnerable Software       0.00      0.00      0.00       468\n",
            "          34 - HTTP Response Splitting       1.00      1.00      1.00      3890\n",
            "                    66 - SQL Injection       0.49      1.00      0.66     49460\n",
            "\n",
            "                              accuracy                           0.56    118360\n",
            "                             macro avg       0.39      0.43      0.40    118360\n",
            "                          weighted avg       0.36      0.56      0.42    118360\n",
            "\n",
            "Confusion Matrix: \n",
            " [[    0     0     0     0     5     0     0     0 45256]\n",
            " [    0     0     0     0     0     0     0     0  3554]\n",
            " [    0     0     0     0     0     0     0     0   265]\n",
            " [    0     0     0 10463     0     0     0     0   776]\n",
            " [    0     0     0     0  2746     0     0     0    83]\n",
            " [    0     0     0   109     1     0     0     0  1284]\n",
            " [    0     0     0     2     0     0     0     0   466]\n",
            " [    0     0     0     0     0     0     0  3890     0]\n",
            " [    0     0     0     0     0     0     0     0 49460]]\n"
          ]
        }
      ],
      "source": [
        "y_predict = abc.predict(test_features)\n",
        "print(classification_report(y_val,y_predict))\n",
        "print('Confusion Matrix: \\n',confusion_matrix(y_val, y_predict))"
      ]
    },
    {
      "cell_type": "markdown",
      "metadata": {
        "id": "o7uBssUuGtjC"
      },
      "source": [
        "## Logistic Regression Classifier"
      ]
    },
    {
      "cell_type": "code",
      "execution_count": null,
      "metadata": {
        "id": "QKn3_0LCFTHy"
      },
      "outputs": [],
      "source": [
        "from sklearn.linear_model import LogisticRegression\n",
        "\n",
        "lr = LogisticRegression()\n",
        "lr.fit(train_features, y_train)\n",
        "print(lr.score(test_features, y_val))"
      ]
    },
    {
      "cell_type": "code",
      "execution_count": null,
      "metadata": {
        "id": "JggrlpA6FTKs"
      },
      "outputs": [],
      "source": [
        "y_predict = lr.predict(test_features)\n",
        "print(classification_report(y_val,y_predict))\n",
        "print('Confusion Matrix: \\n',confusion_matrix(y_val, y_predict))"
      ]
    },
    {
      "cell_type": "markdown",
      "metadata": {
        "id": "sKbQmUrfG4x0"
      },
      "source": [
        "# Word2Vec Feature Extraction"
      ]
    },
    {
      "cell_type": "code",
      "execution_count": null,
      "metadata": {
        "id": "x3CtKCrfe049"
      },
      "outputs": [],
      "source": [
        "import pandas as pd\n",
        "import numpy as np\n",
        "import string\n",
        "from nltk.corpus import stopwords\n",
        "from nltk.tokenize import word_tokenize\n",
        "from gensim.models import Word2Vec\n",
        "from tensorflow.keras.preprocessing.text import Tokenizer\n",
        "from tensorflow.keras.preprocessing.sequence import pad_sequences\n",
        "from tensorflow.keras.layers import Embedding, Conv1D, MaxPooling1D, Flatten, Dense\n",
        "from tensorflow.keras.models import Sequential\n",
        "from sklearn.model_selection import train_test_split"
      ]
    },
    {
      "cell_type": "code",
      "execution_count": null,
      "metadata": {
        "id": "SB8pIwzZceO1"
      },
      "outputs": [],
      "source": [
        "X_train, X_test, y_train, y_test = train_test_split(df_train[\"text\"],\n",
        "                                                  df_train[\"label\"],\n",
        "                                                  test_size=0.2,\n",
        "                                                  shuffle=True)"
      ]
    },
    {
      "cell_type": "code",
      "execution_count": null,
      "metadata": {
        "id": "9vb4yR7ocmAi"
      },
      "outputs": [],
      "source": [
        "from gensim.models import Word2Vec\n",
        "\n",
        "sentences = [sentence.split() for sentence in X_train]\n",
        "w2v_model = Word2Vec(sentences, window=5, min_count=5, workers=4)"
      ]
    },
    {
      "cell_type": "code",
      "execution_count": null,
      "metadata": {
        "id": "iCj5lFh9c_vm"
      },
      "outputs": [],
      "source": [
        "import numpy as np\n",
        "\n",
        "def vectorize(sentence):\n",
        "    words = sentence.split()\n",
        "    words_vecs = [w2v_model.wv[word] for word in words if word in w2v_model.wv]\n",
        "    if len(words_vecs) == 0:\n",
        "        return np.zeros(100)\n",
        "    words_vecs = np.array(words_vecs)\n",
        "    return words_vecs.mean(axis=0)\n",
        "\n",
        "X_train = np.array([vectorize(sentence) for sentence in X_train])\n",
        "X_test = np.array([vectorize(sentence) for sentence in X_test])"
      ]
    },
    {
      "cell_type": "code",
      "execution_count": null,
      "metadata": {
        "colab": {
          "base_uri": "https://localhost:8080/"
        },
        "id": "nxQ_KB0CdP7a",
        "outputId": "22a7a38f-fefe-43ac-b4a6-b6a62a146e13"
      },
      "outputs": [
        {
          "name": "stderr",
          "output_type": "stream",
          "text": [
            "/usr/local/lib/python3.9/dist-packages/sklearn/linear_model/_logistic.py:458: ConvergenceWarning: lbfgs failed to converge (status=1):\n",
            "STOP: TOTAL NO. of ITERATIONS REACHED LIMIT.\n",
            "\n",
            "Increase the number of iterations (max_iter) or scale the data as shown in:\n",
            "    https://scikit-learn.org/stable/modules/preprocessing.html\n",
            "Please also refer to the documentation for alternative solver options:\n",
            "    https://scikit-learn.org/stable/modules/linear_model.html#logistic-regression\n",
            "  n_iter_i = _check_optimize_result(\n"
          ]
        },
        {
          "name": "stdout",
          "output_type": "stream",
          "text": [
            "0.6198208854342684\n"
          ]
        }
      ],
      "source": [
        "from sklearn.linear_model import LogisticRegression\n",
        "\n",
        "clf = LogisticRegression()\n",
        "clf.fit(X_train, y_train)\n",
        "print(clf.score(X_test, y_test))"
      ]
    },
    {
      "cell_type": "code",
      "execution_count": null,
      "metadata": {
        "colab": {
          "base_uri": "https://localhost:8080/"
        },
        "id": "XXZPJHY5eQDB",
        "outputId": "1e1d0bcf-b8f7-4560-adbc-de9b96af014e"
      },
      "outputs": [
        {
          "name": "stderr",
          "output_type": "stream",
          "text": [
            "/usr/local/lib/python3.9/dist-packages/sklearn/metrics/_classification.py:1344: UndefinedMetricWarning: Precision and F-score are ill-defined and being set to 0.0 in labels with no predicted samples. Use `zero_division` parameter to control this behavior.\n",
            "  _warn_prf(average, modifier, msg_start, len(result))\n",
            "/usr/local/lib/python3.9/dist-packages/sklearn/metrics/_classification.py:1344: UndefinedMetricWarning: Precision and F-score are ill-defined and being set to 0.0 in labels with no predicted samples. Use `zero_division` parameter to control this behavior.\n",
            "  _warn_prf(average, modifier, msg_start, len(result))\n",
            "/usr/local/lib/python3.9/dist-packages/sklearn/metrics/_classification.py:1344: UndefinedMetricWarning: Precision and F-score are ill-defined and being set to 0.0 in labels with no predicted samples. Use `zero_division` parameter to control this behavior.\n",
            "  _warn_prf(average, modifier, msg_start, len(result))\n"
          ]
        },
        {
          "name": "stdout",
          "output_type": "stream",
          "text": [
            "                                        precision    recall  f1-score   support\n",
            "\n",
            "                          000 - Normal       0.57      0.80      0.67     45581\n",
            "                  126 - Path Traversal       0.31      0.08      0.13      3422\n",
            "         153 - Input Data Manipulation       0.00      0.00      0.00       282\n",
            "         194 - Fake the Source of Data       0.31      0.06      0.10     11048\n",
            "                  242 - Code Injection       0.41      0.03      0.05      2786\n",
            "           272 - Protocol Manipulation       0.00      0.00      0.00      1366\n",
            "310 - Scanning for Vulnerable Software       0.70      0.93      0.80       475\n",
            "          34 - HTTP Response Splitting       0.37      0.02      0.03      3790\n",
            "                    66 - SQL Injection       0.70      0.72      0.71     49610\n",
            "\n",
            "                              accuracy                           0.62    118360\n",
            "                             macro avg       0.37      0.29      0.28    118360\n",
            "                          weighted avg       0.57      0.62      0.57    118360\n",
            "\n",
            "Confusion Matrix: \n",
            " [[36363   256     0   795    42     1    46    63  8015]\n",
            " [ 2131   285     0   180    38     0     4     0   784]\n",
            " [   42    15     0    58     0     0     0     0   167]\n",
            " [ 6267   173     0   667     3     0    17    22  3899]\n",
            " [ 1852    53     0    66    76     0     7    14   718]\n",
            " [  999    13     0    10     4     0     7     0   333]\n",
            " [   13     0     0     0     0     0   441     0    21]\n",
            " [ 2191     8     0    41     0     0    13    58  1479]\n",
            " [13538   121     0   365    22     0    92     0 35472]]\n"
          ]
        }
      ],
      "source": [
        "y_predict = clf.predict(X_test)\n",
        "print(classification_report(y_test,y_predict))\n",
        "print('Confusion Matrix: \\n',confusion_matrix(y_test, y_predict))"
      ]
    },
    {
      "cell_type": "code",
      "execution_count": null,
      "metadata": {
        "id": "ka4tAuFCj-yk"
      },
      "outputs": [],
      "source": [
        "X_train, X_test, y_train, y_test = train_test_split(df_train[\"text\"],\n",
        "                                                  df_train[\"label\"],\n",
        "                                                  test_size=0.2,\n",
        "                                                  shuffle=True)"
      ]
    },
    {
      "cell_type": "code",
      "execution_count": null,
      "metadata": {
        "id": "C5jAqT9PiQnq"
      },
      "outputs": [],
      "source": [
        "X_train, X_test, y_train, y_test = train_test_split(df_train[\"text\"],\n",
        "                                                  df_train[\"label\"],\n",
        "                                                  test_size=0.2,\n",
        "                                                  shuffle=True)\n",
        "# Tokenize the text data\n",
        "tokenizer = Tokenizer()\n",
        "tokenizer.fit_on_texts(X_train)\n",
        "\n",
        "X_train = tokenizer.texts_to_sequences(X_train)\n",
        "X_test = tokenizer.texts_to_sequences(X_test)\n",
        "\n",
        "vocab_size = len(tokenizer.word_index) + 1\n",
        "\n",
        "# Pad the sequences to a fixed length\n",
        "max_length = 100\n",
        "X_train = pad_sequences(X_train, maxlen=max_length, padding='post')\n",
        "X_test = pad_sequences(X_test, maxlen=max_length, padding='post')"
      ]
    },
    {
      "cell_type": "code",
      "execution_count": null,
      "metadata": {
        "colab": {
          "base_uri": "https://localhost:8080/"
        },
        "id": "P_nEIM3Ml6NU",
        "outputId": "1df99c1e-ac10-429e-9869-bc86c26754a3"
      },
      "outputs": [
        {
          "name": "stderr",
          "output_type": "stream",
          "text": [
            "[nltk_data] Downloading package punkt to /root/nltk_data...\n",
            "[nltk_data]   Package punkt is already up-to-date!\n",
            "[nltk_data] Downloading package stopwords to /root/nltk_data...\n",
            "[nltk_data]   Package stopwords is already up-to-date!\n",
            "[nltk_data] Downloading package wordnet to /root/nltk_data...\n",
            "[nltk_data]   Package wordnet is already up-to-date!\n"
          ]
        }
      ],
      "source": [
        "## importing all libraries\n",
        "import numpy as np\n",
        "import pandas as pd\n",
        "import seaborn as sns\n",
        "import matplotlib.pyplot as plt\n",
        "import re\n",
        "import nltk\n",
        "nltk.download('punkt')\n",
        "nltk.download('stopwords')\n",
        "nltk.download('wordnet')\n",
        "from sklearn.preprocessing import LabelEncoder\n",
        "from sklearn.model_selection import GridSearchCV\n",
        "from sklearn.model_selection import train_test_split\n",
        "\n",
        "## Case 1 : Would use Word2Vec and then apply different classifiers\n",
        "from gensim.models import Word2Vec  \n",
        "\n",
        "## Case 2 : Would use TfidfVectorizer and then apply different classifiers\n",
        "from sklearn.feature_extraction.text import TfidfVectorizer   \n",
        "\n",
        "## This would help us understand : Does the type of Vectorizing Process influence the precision , accuracy , recall score of the classifiers ??\n",
        "\n",
        "\n",
        "from sklearn.pipeline import Pipeline\n",
        "from sklearn.svm import SVC\n",
        "from sklearn.naive_bayes import GaussianNB\n",
        "from sklearn.naive_bayes import MultinomialNB\n",
        "from sklearn.tree import DecisionTreeClassifier\n",
        "from sklearn.neural_network import MLPClassifier\n",
        "from sklearn.ensemble import GradientBoostingClassifier\n",
        "from sklearn.metrics import precision_score, recall_score, f1_score, accuracy_score\n",
        "import warnings\n",
        "warnings.filterwarnings(\"ignore\")"
      ]
    },
    {
      "cell_type": "code",
      "execution_count": null,
      "metadata": {
        "colab": {
          "background_save": true,
          "base_uri": "https://localhost:8080/"
        },
        "id": "X3av8NDrlnsR",
        "outputId": "501a58c9-4c57-4015-9ebd-56c365152124"
      },
      "outputs": [
        {
          "name": "stdout",
          "output_type": "stream",
          "text": [
            "Tokenization complete.\n",
            "Naive Bayes :\n",
            "Accuracy: 0.482 \tPrecision: 0.370 \tRecall: 0.636 \t\tF1: 0.373\n",
            "\n",
            "Confusion Matrix: \n",
            " [[ 5007   522   544  4900  1013 12479 12368  3424  5040]\n",
            " [   34  1724    29    65  1306    89   174     8    20]\n",
            " [    1     0   223    15     0     2     8     0     0]\n",
            " [  289   206   557  7688   246   876   488   579   152]\n",
            " [   37    46    15   237  2390     4     0    31    80]\n",
            " [  219     4    57    50     0   342   689     2    39]\n",
            " [    5     1     0     4     0    24   467     0     1]\n",
            " [  230     0   156   239     1    71    26  2982   112]\n",
            " [ 3193   745   688  2789   645  2100  1065  2308 36190]]\n",
            "Decision Tree :\n",
            "Accuracy: 0.940 \tPrecision: 0.808 \tRecall: 0.756 \t\tF1: 0.777\n",
            "\n",
            "Confusion Matrix: \n",
            " [[43562    67    54   304    36   237    34   101   902]\n",
            " [  148  3224     6     9     6    11     9     0    36]\n",
            " [   59     2    51    34     0     5     0     0    98]\n",
            " [  879    15    46  9738    36    62     4    19   282]\n",
            " [   81     8     0    65  2611     3     0     9    63]\n",
            " [  924     9     7    46     2   356     5     1    52]\n",
            " [   69    14     0    12     0    13   373     0    21]\n",
            " [   79     1     1    26    22     1     0  3635    52]\n",
            " [ 1646    15    66   193    25    41     3    43 47691]]\n"
          ]
        },
        {
          "name": "stderr",
          "output_type": "stream",
          "text": [
            "ERROR:root:Internal Python error in the inspect module.\n",
            "Below is the traceback from this internal error.\n",
            "\n",
            "ERROR:root:Internal Python error in the inspect module.\n",
            "Below is the traceback from this internal error.\n",
            "\n",
            "ERROR:root:Internal Python error in the inspect module.\n",
            "Below is the traceback from this internal error.\n",
            "\n"
          ]
        },
        {
          "name": "stdout",
          "output_type": "stream",
          "text": [
            "Traceback (most recent call last):\n",
            "  File \"/usr/local/lib/python3.9/dist-packages/IPython/core/interactiveshell.py\", line 3553, in run_code\n",
            "    exec(code_obj, self.user_global_ns, self.user_ns)\n",
            "  File \"<ipython-input-17-2b26577c42b5>\", line 71, in <cell line: 67>\n",
            "    clf.fit(X_train, y_train)  ## Note : we are calling user defined fit method. This fit method uses Cross Validation\n",
            "  File \"/usr/local/lib/python3.9/dist-packages/sklearn/pipeline.py\", line 405, in fit\n",
            "    self._final_estimator.fit(Xt, y, **fit_params_last_step)\n",
            "  File \"<ipython-input-17-2b26577c42b5>\", line 40, in fit\n",
            "    return self.gs.fit(X, y)\n",
            "  File \"/usr/local/lib/python3.9/dist-packages/sklearn/model_selection/_search.py\", line 909, in fit\n",
            "    self.best_estimator_.fit(X, y, **fit_params)\n",
            "  File \"/usr/local/lib/python3.9/dist-packages/sklearn/ensemble/_forest.py\", line 473, in fit\n",
            "    trees = Parallel(\n",
            "  File \"/usr/local/lib/python3.9/dist-packages/sklearn/utils/parallel.py\", line 63, in __call__\n",
            "    return super().__call__(iterable_with_config)\n",
            "  File \"/usr/local/lib/python3.9/dist-packages/joblib/parallel.py\", line 1051, in __call__\n",
            "    while self.dispatch_one_batch(iterator):\n",
            "  File \"/usr/local/lib/python3.9/dist-packages/joblib/parallel.py\", line 864, in dispatch_one_batch\n",
            "    self._dispatch(tasks)\n",
            "  File \"/usr/local/lib/python3.9/dist-packages/joblib/parallel.py\", line 782, in _dispatch\n",
            "    job = self._backend.apply_async(batch, callback=cb)\n",
            "  File \"/usr/local/lib/python3.9/dist-packages/joblib/_parallel_backends.py\", line 208, in apply_async\n",
            "    result = ImmediateResult(func)\n",
            "  File \"/usr/local/lib/python3.9/dist-packages/joblib/_parallel_backends.py\", line 572, in __init__\n",
            "    self.results = batch()\n",
            "  File \"/usr/local/lib/python3.9/dist-packages/joblib/parallel.py\", line 263, in __call__\n",
            "    return [func(*args, **kwargs)\n",
            "  File \"/usr/local/lib/python3.9/dist-packages/joblib/parallel.py\", line 263, in <listcomp>\n",
            "    return [func(*args, **kwargs)\n",
            "  File \"/usr/local/lib/python3.9/dist-packages/sklearn/utils/parallel.py\", line 123, in __call__\n",
            "    return self.function(*args, **kwargs)\n",
            "  File \"/usr/local/lib/python3.9/dist-packages/sklearn/ensemble/_forest.py\", line 184, in _parallel_build_trees\n",
            "    tree.fit(X, y, sample_weight=curr_sample_weight, check_input=False)\n",
            "  File \"/usr/local/lib/python3.9/dist-packages/sklearn/tree/_classes.py\", line 889, in fit\n",
            "    super().fit(\n",
            "  File \"/usr/local/lib/python3.9/dist-packages/sklearn/tree/_classes.py\", line 379, in fit\n",
            "    builder.build(self.tree_, X, y, sample_weight)\n",
            "KeyboardInterrupt\n",
            "\n",
            "During handling of the above exception, another exception occurred:\n",
            "\n",
            "Traceback (most recent call last):\n",
            "  File \"/usr/local/lib/python3.9/dist-packages/IPython/core/interactiveshell.py\", line 2099, in showtraceback\n",
            "    stb = value._render_traceback_()\n",
            "AttributeError: 'KeyboardInterrupt' object has no attribute '_render_traceback_'\n",
            "\n",
            "During handling of the above exception, another exception occurred:\n",
            "\n",
            "Traceback (most recent call last):\n",
            "  File \"/usr/local/lib/python3.9/dist-packages/IPython/core/ultratb.py\", line 1101, in get_records\n",
            "    return _fixed_getinnerframes(etb, number_of_lines_of_context, tb_offset)\n",
            "  File \"/usr/local/lib/python3.9/dist-packages/IPython/core/ultratb.py\", line 248, in wrapped\n",
            "    return f(*args, **kwargs)\n",
            "  File \"/usr/local/lib/python3.9/dist-packages/IPython/core/ultratb.py\", line 281, in _fixed_getinnerframes\n",
            "    records = fix_frame_records_filenames(inspect.getinnerframes(etb, context))\n",
            "  File \"/usr/lib/python3.9/inspect.py\", line 1543, in getinnerframes\n",
            "    frameinfo = (tb.tb_frame,) + getframeinfo(tb, context)\n",
            "  File \"/usr/lib/python3.9/inspect.py\", line 1501, in getframeinfo\n",
            "    filename = getsourcefile(frame) or getfile(frame)\n",
            "  File \"/usr/lib/python3.9/inspect.py\", line 709, in getsourcefile\n",
            "    if getattr(getmodule(object, filename), '__loader__', None) is not None:\n",
            "  File \"/usr/lib/python3.9/inspect.py\", line 738, in getmodule\n",
            "    file = getabsfile(object, _filename)\n",
            "  File \"/usr/lib/python3.9/inspect.py\", line 722, in getabsfile\n",
            "    return os.path.normcase(os.path.abspath(_filename))\n",
            "  File \"/usr/lib/python3.9/posixpath.py\", line 380, in abspath\n",
            "    cwd = os.getcwd()\n",
            "OSError: [Errno 107] Transport endpoint is not connected\n",
            "Traceback (most recent call last):\n",
            "  File \"/usr/local/lib/python3.9/dist-packages/IPython/core/interactiveshell.py\", line 3553, in run_code\n",
            "    exec(code_obj, self.user_global_ns, self.user_ns)\n",
            "  File \"<ipython-input-17-2b26577c42b5>\", line 71, in <cell line: 67>\n",
            "    clf.fit(X_train, y_train)  ## Note : we are calling user defined fit method. This fit method uses Cross Validation\n",
            "  File \"/usr/local/lib/python3.9/dist-packages/sklearn/pipeline.py\", line 405, in fit\n",
            "    self._final_estimator.fit(Xt, y, **fit_params_last_step)\n",
            "  File \"<ipython-input-17-2b26577c42b5>\", line 40, in fit\n",
            "    return self.gs.fit(X, y)\n",
            "  File \"/usr/local/lib/python3.9/dist-packages/sklearn/model_selection/_search.py\", line 909, in fit\n",
            "    self.best_estimator_.fit(X, y, **fit_params)\n",
            "  File \"/usr/local/lib/python3.9/dist-packages/sklearn/ensemble/_forest.py\", line 473, in fit\n",
            "    trees = Parallel(\n",
            "  File \"/usr/local/lib/python3.9/dist-packages/sklearn/utils/parallel.py\", line 63, in __call__\n",
            "    return super().__call__(iterable_with_config)\n",
            "  File \"/usr/local/lib/python3.9/dist-packages/joblib/parallel.py\", line 1051, in __call__\n",
            "    while self.dispatch_one_batch(iterator):\n",
            "  File \"/usr/local/lib/python3.9/dist-packages/joblib/parallel.py\", line 864, in dispatch_one_batch\n",
            "    self._dispatch(tasks)\n",
            "  File \"/usr/local/lib/python3.9/dist-packages/joblib/parallel.py\", line 782, in _dispatch\n",
            "    job = self._backend.apply_async(batch, callback=cb)\n",
            "  File \"/usr/local/lib/python3.9/dist-packages/joblib/_parallel_backends.py\", line 208, in apply_async\n",
            "    result = ImmediateResult(func)\n",
            "  File \"/usr/local/lib/python3.9/dist-packages/joblib/_parallel_backends.py\", line 572, in __init__\n",
            "    self.results = batch()\n",
            "  File \"/usr/local/lib/python3.9/dist-packages/joblib/parallel.py\", line 263, in __call__\n",
            "    return [func(*args, **kwargs)\n",
            "  File \"/usr/local/lib/python3.9/dist-packages/joblib/parallel.py\", line 263, in <listcomp>\n",
            "    return [func(*args, **kwargs)\n",
            "  File \"/usr/local/lib/python3.9/dist-packages/sklearn/utils/parallel.py\", line 123, in __call__\n",
            "    return self.function(*args, **kwargs)\n",
            "  File \"/usr/local/lib/python3.9/dist-packages/sklearn/ensemble/_forest.py\", line 184, in _parallel_build_trees\n",
            "    tree.fit(X, y, sample_weight=curr_sample_weight, check_input=False)\n",
            "  File \"/usr/local/lib/python3.9/dist-packages/sklearn/tree/_classes.py\", line 889, in fit\n",
            "    super().fit(\n",
            "  File \"/usr/local/lib/python3.9/dist-packages/sklearn/tree/_classes.py\", line 379, in fit\n",
            "    builder.build(self.tree_, X, y, sample_weight)\n",
            "KeyboardInterrupt\n",
            "\n",
            "During handling of the above exception, another exception occurred:\n",
            "\n",
            "Traceback (most recent call last):\n",
            "  File \"/usr/local/lib/python3.9/dist-packages/IPython/core/interactiveshell.py\", line 2099, in showtraceback\n",
            "    stb = value._render_traceback_()\n",
            "AttributeError: 'KeyboardInterrupt' object has no attribute '_render_traceback_'\n",
            "\n",
            "During handling of the above exception, another exception occurred:\n",
            "\n",
            "Traceback (most recent call last):\n",
            "  File \"/usr/local/lib/python3.9/dist-packages/IPython/core/interactiveshell.py\", line 3473, in run_ast_nodes\n",
            "    if (await self.run_code(code, result,  async_=asy)):\n",
            "  File \"/usr/local/lib/python3.9/dist-packages/IPython/core/interactiveshell.py\", line 3575, in run_code\n",
            "    self.showtraceback(running_compiled_code=True)\n",
            "  File \"/usr/local/lib/python3.9/dist-packages/IPython/core/interactiveshell.py\", line 2101, in showtraceback\n",
            "    stb = self.InteractiveTB.structured_traceback(etype,\n",
            "  File \"/usr/local/lib/python3.9/dist-packages/IPython/core/ultratb.py\", line 1367, in structured_traceback\n",
            "    return FormattedTB.structured_traceback(\n",
            "  File \"/usr/local/lib/python3.9/dist-packages/IPython/core/ultratb.py\", line 1267, in structured_traceback\n",
            "    return VerboseTB.structured_traceback(\n",
            "  File \"/usr/local/lib/python3.9/dist-packages/IPython/core/ultratb.py\", line 1124, in structured_traceback\n",
            "    formatted_exception = self.format_exception_as_a_whole(etype, evalue, etb, number_of_lines_of_context,\n",
            "  File \"/usr/local/lib/python3.9/dist-packages/IPython/core/ultratb.py\", line 1082, in format_exception_as_a_whole\n",
            "    last_unique, recursion_repeat = find_recursion(orig_etype, evalue, records)\n",
            "  File \"/usr/local/lib/python3.9/dist-packages/IPython/core/ultratb.py\", line 382, in find_recursion\n",
            "    return len(records), 0\n",
            "TypeError: object of type 'NoneType' has no len()\n",
            "\n",
            "During handling of the above exception, another exception occurred:\n",
            "\n",
            "Traceback (most recent call last):\n",
            "  File \"/usr/local/lib/python3.9/dist-packages/IPython/core/interactiveshell.py\", line 2099, in showtraceback\n",
            "    stb = value._render_traceback_()\n",
            "AttributeError: 'TypeError' object has no attribute '_render_traceback_'\n",
            "\n",
            "During handling of the above exception, another exception occurred:\n",
            "\n",
            "Traceback (most recent call last):\n",
            "  File \"/usr/local/lib/python3.9/dist-packages/IPython/core/ultratb.py\", line 1101, in get_records\n",
            "    return _fixed_getinnerframes(etb, number_of_lines_of_context, tb_offset)\n",
            "  File \"/usr/local/lib/python3.9/dist-packages/IPython/core/ultratb.py\", line 248, in wrapped\n",
            "    return f(*args, **kwargs)\n",
            "  File \"/usr/local/lib/python3.9/dist-packages/IPython/core/ultratb.py\", line 281, in _fixed_getinnerframes\n",
            "    records = fix_frame_records_filenames(inspect.getinnerframes(etb, context))\n",
            "  File \"/usr/lib/python3.9/inspect.py\", line 1543, in getinnerframes\n",
            "    frameinfo = (tb.tb_frame,) + getframeinfo(tb, context)\n",
            "  File \"/usr/lib/python3.9/inspect.py\", line 1501, in getframeinfo\n",
            "    filename = getsourcefile(frame) or getfile(frame)\n",
            "  File \"/usr/lib/python3.9/inspect.py\", line 709, in getsourcefile\n",
            "    if getattr(getmodule(object, filename), '__loader__', None) is not None:\n",
            "  File \"/usr/lib/python3.9/inspect.py\", line 738, in getmodule\n",
            "    file = getabsfile(object, _filename)\n",
            "  File \"/usr/lib/python3.9/inspect.py\", line 722, in getabsfile\n",
            "    return os.path.normcase(os.path.abspath(_filename))\n",
            "  File \"/usr/lib/python3.9/posixpath.py\", line 380, in abspath\n",
            "    cwd = os.getcwd()\n",
            "OSError: [Errno 107] Transport endpoint is not connected\n",
            "Traceback (most recent call last):\n",
            "  File \"/usr/local/lib/python3.9/dist-packages/IPython/core/interactiveshell.py\", line 3553, in run_code\n",
            "    exec(code_obj, self.user_global_ns, self.user_ns)\n",
            "  File \"<ipython-input-17-2b26577c42b5>\", line 71, in <cell line: 67>\n",
            "    clf.fit(X_train, y_train)  ## Note : we are calling user defined fit method. This fit method uses Cross Validation\n",
            "  File \"/usr/local/lib/python3.9/dist-packages/sklearn/pipeline.py\", line 405, in fit\n",
            "    self._final_estimator.fit(Xt, y, **fit_params_last_step)\n",
            "  File \"<ipython-input-17-2b26577c42b5>\", line 40, in fit\n",
            "    return self.gs.fit(X, y)\n",
            "  File \"/usr/local/lib/python3.9/dist-packages/sklearn/model_selection/_search.py\", line 909, in fit\n",
            "    self.best_estimator_.fit(X, y, **fit_params)\n",
            "  File \"/usr/local/lib/python3.9/dist-packages/sklearn/ensemble/_forest.py\", line 473, in fit\n",
            "    trees = Parallel(\n",
            "  File \"/usr/local/lib/python3.9/dist-packages/sklearn/utils/parallel.py\", line 63, in __call__\n",
            "    return super().__call__(iterable_with_config)\n",
            "  File \"/usr/local/lib/python3.9/dist-packages/joblib/parallel.py\", line 1051, in __call__\n",
            "    while self.dispatch_one_batch(iterator):\n",
            "  File \"/usr/local/lib/python3.9/dist-packages/joblib/parallel.py\", line 864, in dispatch_one_batch\n",
            "    self._dispatch(tasks)\n",
            "  File \"/usr/local/lib/python3.9/dist-packages/joblib/parallel.py\", line 782, in _dispatch\n",
            "    job = self._backend.apply_async(batch, callback=cb)\n",
            "  File \"/usr/local/lib/python3.9/dist-packages/joblib/_parallel_backends.py\", line 208, in apply_async\n",
            "    result = ImmediateResult(func)\n",
            "  File \"/usr/local/lib/python3.9/dist-packages/joblib/_parallel_backends.py\", line 572, in __init__\n",
            "    self.results = batch()\n",
            "  File \"/usr/local/lib/python3.9/dist-packages/joblib/parallel.py\", line 263, in __call__\n",
            "    return [func(*args, **kwargs)\n",
            "  File \"/usr/local/lib/python3.9/dist-packages/joblib/parallel.py\", line 263, in <listcomp>\n",
            "    return [func(*args, **kwargs)\n",
            "  File \"/usr/local/lib/python3.9/dist-packages/sklearn/utils/parallel.py\", line 123, in __call__\n",
            "    return self.function(*args, **kwargs)\n",
            "  File \"/usr/local/lib/python3.9/dist-packages/sklearn/ensemble/_forest.py\", line 184, in _parallel_build_trees\n",
            "    tree.fit(X, y, sample_weight=curr_sample_weight, check_input=False)\n",
            "  File \"/usr/local/lib/python3.9/dist-packages/sklearn/tree/_classes.py\", line 889, in fit\n",
            "    super().fit(\n",
            "  File \"/usr/local/lib/python3.9/dist-packages/sklearn/tree/_classes.py\", line 379, in fit\n",
            "    builder.build(self.tree_, X, y, sample_weight)\n",
            "KeyboardInterrupt\n",
            "\n",
            "During handling of the above exception, another exception occurred:\n",
            "\n",
            "Traceback (most recent call last):\n",
            "  File \"/usr/local/lib/python3.9/dist-packages/IPython/core/interactiveshell.py\", line 2099, in showtraceback\n",
            "    stb = value._render_traceback_()\n",
            "AttributeError: 'KeyboardInterrupt' object has no attribute '_render_traceback_'\n",
            "\n",
            "During handling of the above exception, another exception occurred:\n",
            "\n",
            "Traceback (most recent call last):\n",
            "  File \"/usr/local/lib/python3.9/dist-packages/IPython/core/interactiveshell.py\", line 3473, in run_ast_nodes\n",
            "    if (await self.run_code(code, result,  async_=asy)):\n",
            "  File \"/usr/local/lib/python3.9/dist-packages/IPython/core/interactiveshell.py\", line 3575, in run_code\n",
            "    self.showtraceback(running_compiled_code=True)\n",
            "  File \"/usr/local/lib/python3.9/dist-packages/IPython/core/interactiveshell.py\", line 2101, in showtraceback\n",
            "    stb = self.InteractiveTB.structured_traceback(etype,\n",
            "  File \"/usr/local/lib/python3.9/dist-packages/IPython/core/ultratb.py\", line 1367, in structured_traceback\n",
            "    return FormattedTB.structured_traceback(\n",
            "  File \"/usr/local/lib/python3.9/dist-packages/IPython/core/ultratb.py\", line 1267, in structured_traceback\n",
            "    return VerboseTB.structured_traceback(\n",
            "  File \"/usr/local/lib/python3.9/dist-packages/IPython/core/ultratb.py\", line 1124, in structured_traceback\n",
            "    formatted_exception = self.format_exception_as_a_whole(etype, evalue, etb, number_of_lines_of_context,\n",
            "  File \"/usr/local/lib/python3.9/dist-packages/IPython/core/ultratb.py\", line 1082, in format_exception_as_a_whole\n",
            "    last_unique, recursion_repeat = find_recursion(orig_etype, evalue, records)\n",
            "  File \"/usr/local/lib/python3.9/dist-packages/IPython/core/ultratb.py\", line 382, in find_recursion\n",
            "    return len(records), 0\n",
            "TypeError: object of type 'NoneType' has no len()\n",
            "\n",
            "During handling of the above exception, another exception occurred:\n",
            "\n",
            "Traceback (most recent call last):\n",
            "  File \"/usr/local/lib/python3.9/dist-packages/IPython/core/interactiveshell.py\", line 2099, in showtraceback\n",
            "    stb = value._render_traceback_()\n",
            "AttributeError: 'TypeError' object has no attribute '_render_traceback_'\n",
            "\n",
            "During handling of the above exception, another exception occurred:\n",
            "\n",
            "Traceback (most recent call last):\n",
            "  File \"/usr/local/lib/python3.9/dist-packages/IPython/core/interactiveshell.py\", line 3030, in _run_cell\n",
            "    return runner(coro)\n",
            "  File \"/usr/local/lib/python3.9/dist-packages/IPython/core/async_helpers.py\", line 78, in _pseudo_sync_runner\n",
            "    coro.send(None)\n",
            "  File \"/usr/local/lib/python3.9/dist-packages/IPython/core/interactiveshell.py\", line 3257, in run_cell_async\n",
            "    has_raised = await self.run_ast_nodes(code_ast.body, cell_name,\n",
            "  File \"/usr/local/lib/python3.9/dist-packages/IPython/core/interactiveshell.py\", line 3492, in run_ast_nodes\n",
            "    self.showtraceback()\n",
            "  File \"/usr/local/lib/python3.9/dist-packages/IPython/core/interactiveshell.py\", line 2101, in showtraceback\n",
            "    stb = self.InteractiveTB.structured_traceback(etype,\n",
            "  File \"/usr/local/lib/python3.9/dist-packages/IPython/core/ultratb.py\", line 1367, in structured_traceback\n",
            "    return FormattedTB.structured_traceback(\n",
            "  File \"/usr/local/lib/python3.9/dist-packages/IPython/core/ultratb.py\", line 1267, in structured_traceback\n",
            "    return VerboseTB.structured_traceback(\n",
            "  File \"/usr/local/lib/python3.9/dist-packages/IPython/core/ultratb.py\", line 1142, in structured_traceback\n",
            "    formatted_exceptions += self.format_exception_as_a_whole(etype, evalue, etb, lines_of_context,\n",
            "  File \"/usr/local/lib/python3.9/dist-packages/IPython/core/ultratb.py\", line 1082, in format_exception_as_a_whole\n",
            "    last_unique, recursion_repeat = find_recursion(orig_etype, evalue, records)\n",
            "  File \"/usr/local/lib/python3.9/dist-packages/IPython/core/ultratb.py\", line 382, in find_recursion\n",
            "    return len(records), 0\n",
            "TypeError: object of type 'NoneType' has no len()\n",
            "\n",
            "During handling of the above exception, another exception occurred:\n",
            "\n",
            "Traceback (most recent call last):\n",
            "  File \"/usr/local/lib/python3.9/dist-packages/IPython/core/interactiveshell.py\", line 2099, in showtraceback\n",
            "    stb = value._render_traceback_()\n",
            "AttributeError: 'TypeError' object has no attribute '_render_traceback_'\n",
            "\n",
            "During handling of the above exception, another exception occurred:\n",
            "\n",
            "Traceback (most recent call last):\n",
            "  File \"/usr/local/lib/python3.9/dist-packages/IPython/core/ultratb.py\", line 1101, in get_records\n",
            "    return _fixed_getinnerframes(etb, number_of_lines_of_context, tb_offset)\n",
            "  File \"/usr/local/lib/python3.9/dist-packages/IPython/core/ultratb.py\", line 248, in wrapped\n",
            "    return f(*args, **kwargs)\n",
            "  File \"/usr/local/lib/python3.9/dist-packages/IPython/core/ultratb.py\", line 281, in _fixed_getinnerframes\n",
            "    records = fix_frame_records_filenames(inspect.getinnerframes(etb, context))\n",
            "  File \"/usr/lib/python3.9/inspect.py\", line 1543, in getinnerframes\n",
            "    frameinfo = (tb.tb_frame,) + getframeinfo(tb, context)\n",
            "  File \"/usr/lib/python3.9/inspect.py\", line 1501, in getframeinfo\n",
            "    filename = getsourcefile(frame) or getfile(frame)\n",
            "  File \"/usr/lib/python3.9/inspect.py\", line 709, in getsourcefile\n",
            "    if getattr(getmodule(object, filename), '__loader__', None) is not None:\n",
            "  File \"/usr/lib/python3.9/inspect.py\", line 738, in getmodule\n",
            "    file = getabsfile(object, _filename)\n",
            "  File \"/usr/lib/python3.9/inspect.py\", line 722, in getabsfile\n",
            "    return os.path.normcase(os.path.abspath(_filename))\n",
            "  File \"/usr/lib/python3.9/posixpath.py\", line 380, in abspath\n",
            "    cwd = os.getcwd()\n",
            "OSError: [Errno 107] Transport endpoint is not connected\n"
          ]
        }
      ],
      "source": [
        "from sklearn.ensemble import AdaBoostClassifier\n",
        "from sklearn.ensemble import RandomForestClassifier\n",
        "# Classification using word2vec vectorizer\n",
        "# Tokenize : dividing Sentences into words\n",
        "df_train['text_clean'] = df_train['text'].apply(nltk.word_tokenize)\n",
        "print('Tokenization complete.')\n",
        "\n",
        "vec_model = Word2Vec(df_train['text_clean'])\n",
        "\n",
        "w2v = dict(zip(vec_model.wv.index_to_key, vec_model.wv.vectors))\n",
        "## What is syn0 ?\n",
        "## https://stackoverflow.com/questions/53301916/python-gensim-what-is-the-meaning-of-syn0-and-syn0norm\n",
        "\n",
        "class Vectorizer(object):\n",
        "    \n",
        "    def __init__(self, vec):\n",
        "        self.vec = vec\n",
        "        self.dim = len(vec.values())\n",
        "\n",
        "    def fit(self, X, y):\n",
        "        return self\n",
        "\n",
        "    def transform(self, X):\n",
        "        return np.array([np.mean([self.vec[w] for w in words if w in self.vec] or [np.zeros(self.dim)], axis=0) for words in X])\n",
        "\n",
        "\n",
        "## for any Classifier , we need intialise the model with the parameters. \n",
        "## Further I am applying GridSearchCV for 5 runs (i.e 1/5th data used each time for testing) \n",
        "## So the model gets trained over 5 runs \n",
        "## as well we are predicting also over 5 runs\n",
        "## In case if you wish to know about Cross Validation , you can watch my Video here : https://www.youtube.com/watch?v=LmxsySwAhoE&t=84s\n",
        "class Classifier(object):\n",
        "    \n",
        "    def __init__(self, model, param):\n",
        "        self.model = model\n",
        "        self.param = param\n",
        "        self.gs = GridSearchCV(self.model, self.param, cv=5, error_score=0, refit=True)        \n",
        "\n",
        "    def fit(self, X, y):        \n",
        "        return self.gs.fit(X, y)\n",
        "\n",
        "    def predict(self, X):\n",
        "        return self.gs.predict(X)\n",
        "    \n",
        "\n",
        "## Preparing to make a pipeline \n",
        "clf_models = {\n",
        "    'Naive Bayes': GaussianNB(), \n",
        "    'Decision Tree': DecisionTreeClassifier(),  \n",
        "    'Random Forest': RandomForestClassifier(),\n",
        "    'AdaBoost': AdaBoostClassifier()\n",
        "}\n",
        "\n",
        "clf_params = {\n",
        "    'Naive Bayes': { }, \n",
        "    'Decision Tree': { 'min_samples_split': [2, 5] }, \n",
        "    'Random Forest': { },\n",
        "    'AdaBoost': {  }\n",
        "}\n",
        "\n",
        "\n",
        "## splitting the dataset into 80:20.  have kept shuffle=True , so that the data is randomly sampled or simply said shuffled , and then split.\n",
        "X_train, X_test, y_train, y_test = train_test_split(df_train['text'], df_train['label'], test_size=0.2, shuffle=True)\n",
        "\n",
        "## for loop traverses , each and every classifier and its corresponding parameters.\n",
        "for key in clf_models.keys():\n",
        "    \n",
        "    clf = Pipeline([('Word2Vec vectorizer', Vectorizer(w2v)), ('Classifier', Classifier(clf_models[key], clf_params[key]))])\n",
        "    \n",
        "    clf.fit(X_train, y_train)  ## Note : we are calling user defined fit method. This fit method uses Cross Validation\n",
        "    y_pred = clf.predict(X_test)  ## Note : we are calling user defined predict method. This predict method uses Cross Validation\n",
        "    \n",
        "    ## printing performance metrics for each classifier \n",
        "    print(key, ':')\n",
        "    print(\"Accuracy: %1.3f \\tPrecision: %1.3f \\tRecall: %1.3f \\t\\tF1: %1.3f\\n\" % (accuracy_score(y_test, y_pred), precision_score(y_test, y_pred, average='macro'), recall_score(y_test, y_pred, average='macro'), f1_score(y_test, y_pred, average='macro')))\n",
        "    print('Confusion Matrix: \\n',confusion_matrix(y_test, y_pred))"
      ]
    },
    {
      "cell_type": "code",
      "source": [],
      "metadata": {
        "id": "SFJPg0CeAzNE"
      },
      "execution_count": null,
      "outputs": []
    }
  ],
  "metadata": {
    "colab": {
      "provenance": []
    },
    "kernelspec": {
      "display_name": "Python 3",
      "name": "python3"
    },
    "language_info": {
      "name": "python"
    }
  },
  "nbformat": 4,
  "nbformat_minor": 0
}